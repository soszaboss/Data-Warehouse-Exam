{
  "cells": [
    {
      "cell_type": "code",
      "execution_count": null,
      "metadata": {
        "id": "r7yeOvEdAB9X"
      },
      "outputs": [],
      "source": [
        "import requests\n",
        "import pandas as pd\n",
        "import numpy as np\n",
        "import matplotlib.pyplot as plt\n",
        "import seaborn as sns"
      ]
    },
    {
      "cell_type": "code",
      "execution_count": null,
      "metadata": {
        "id": "HTyXXhu9Ad9Z"
      },
      "outputs": [],
      "source": [
        "URLS = {\n",
        "    \"gdp\": \"https://datahub.io/core/inflation/r/inflation-gdp.csv\",\n",
        "    \"consumer\": \"https://datahub.io/core/inflation/r/inflation-consumer.csv\"\n",
        "}\n",
        "\n",
        "for name, url in URLS.items():\n",
        "    response = requests.get(url)\n",
        "    with open(f\"{name}.csv\", \"wb\") as f:\n",
        "        f.write(response.content)"
      ]
    },
    {
      "cell_type": "code",
      "execution_count": null,
      "metadata": {
        "id": "v-xKfXjxA1pC"
      },
      "outputs": [],
      "source": [
        "df_gdp = pd.read_csv(\"gdp.csv\")\n",
        "df_consumer = pd.read_csv(\"consumer.csv\")"
      ]
    },
    {
      "cell_type": "code",
      "execution_count": null,
      "metadata": {
        "id": "lAiGQar4A2Vm"
      },
      "outputs": [],
      "source": [
        "df_gdp.head()"
      ]
    },
    {
      "cell_type": "code",
      "execution_count": null,
      "metadata": {
        "id": "eqRVNDPoA4W3"
      },
      "outputs": [],
      "source": [
        "df_consumer.head()"
      ]
    },
    {
      "cell_type": "markdown",
      "metadata": {
        "id": "7927e560"
      },
      "source": [
        "# Task\n",
        "Perform a creative and in-depth analysis of the provided World Bank CPI and GDP inflation data from 1973 to 2014, including data cleaning, exploratory data analysis, comparative analysis, and data visualization. Explain each step with comments and titles. The data is accessed via The World Bank's API in CSV format for both CPI and GDP."
      ]
    },
    {
      "cell_type": "markdown",
      "metadata": {
        "id": "6bb009fa"
      },
      "source": [
        "## Data cleaning and preprocessing\n",
        "\n",
        "### Subtask:\n",
        "Address missing values in both dataframes (`df_gdp` and `df_consumer`). This might involve imputation or removal of rows/columns, depending on the extent of missingness.\n"
      ]
    },
    {
      "cell_type": "markdown",
      "metadata": {
        "id": "baeaaea4"
      },
      "source": [
        "**Reasoning**:\n",
        "Check for missing values in both dataframes and display the sum of missing values per column.\n",
        "\n"
      ]
    },
    {
      "cell_type": "code",
      "execution_count": null,
      "metadata": {
        "id": "9704c1a4"
      },
      "outputs": [],
      "source": [
        "print(\"Missing values in df_gdp:\")\n",
        "print(df_gdp.isnull().sum())\n",
        "\n",
        "print(\"\\nMissing values in df_consumer:\")\n",
        "print(df_consumer.isnull().sum())"
      ]
    },
    {
      "cell_type": "markdown",
      "metadata": {
        "id": "0dc0440a"
      },
      "source": [
        "## Exploratory data analysis (eda)\n",
        "\n",
        "### Subtask:\n",
        "Analyze the distribution of inflation rates in both datasets.\n"
      ]
    },
    {
      "cell_type": "markdown",
      "metadata": {
        "id": "57f31350"
      },
      "source": [
        "**Reasoning**:\n",
        "Generate histograms for the 'Inflation' column in both dataframes to visualize their distributions.\n",
        "\n"
      ]
    },
    {
      "cell_type": "code",
      "execution_count": null,
      "metadata": {
        "id": "ea53896a"
      },
      "outputs": [],
      "source": [
        "plt.figure(figsize=(12, 6))\n",
        "\n",
        "plt.subplot(1, 2, 1)\n",
        "sns.histplot(df_gdp['Inflation'], bins=50, kde=True)\n",
        "plt.title('Distribution of GDP Inflation Rates')\n",
        "plt.xlabel('Inflation Rate')\n",
        "plt.ylabel('Frequency')\n",
        "\n",
        "plt.subplot(1, 2, 2)\n",
        "sns.histplot(df_consumer['Inflation'], bins=50, kde=True)\n",
        "plt.title('Distribution of Consumer Inflation Rates')\n",
        "plt.xlabel('Inflation Rate')\n",
        "plt.ylabel('Frequency')\n",
        "\n",
        "plt.tight_layout()\n",
        "plt.show()"
      ]
    },
    {
      "cell_type": "markdown",
      "metadata": {
        "id": "5603fe5a"
      },
      "source": [
        "## Exploratory data analysis (eda)\n",
        "\n",
        "### Subtask:\n",
        "Explore trends in inflation over time, perhaps focusing on specific countries or regions.\n"
      ]
    },
    {
      "cell_type": "markdown",
      "metadata": {
        "id": "66cd57e9"
      },
      "source": [
        "**Reasoning**:\n",
        "Filter the dataframes for selected countries, group by year and country, calculate the mean inflation, and prepare the data for plotting.\n",
        "\n"
      ]
    },
    {
      "cell_type": "code",
      "execution_count": null,
      "metadata": {
        "id": "7d1787aa"
      },
      "outputs": [],
      "source": [
        "selected_countries = ['United States', 'China', 'Germany']\n",
        "\n",
        "df_gdp_filtered = df_gdp[df_gdp['Country'].isin(selected_countries)]\n",
        "df_consumer_filtered = df_consumer[df_consumer['Country'].isin(selected_countries)]\n",
        "\n",
        "df_gdp_agg = df_gdp_filtered.groupby(['Country', 'Year'])['Inflation'].mean().reset_index()\n",
        "df_consumer_agg = df_consumer_filtered.groupby(['Country', 'Year'])['Inflation'].mean().reset_index()"
      ]
    },
    {
      "cell_type": "markdown",
      "metadata": {
        "id": "77b79ee0"
      },
      "source": [
        "**Reasoning**:\n",
        "Plot the aggregated inflation data for selected countries, distinguishing between GDP and Consumer inflation and using different colors for countries.\n",
        "\n"
      ]
    },
    {
      "cell_type": "code",
      "execution_count": null,
      "metadata": {
        "colab": {
          "background_save": true
        },
        "id": "507297a3",
        "outputId": "03b5ad92-d26e-4aa8-a9aa-0956580a446f"
      },
      "outputs": [
        {
          "data": {
            "image/png": "[encoded data removed]",
            "text/plain": [
              "<Figure size 1400x700 with 1 Axes>"
            ]
          },
          "metadata": {},
          "output_type": "display_data"
        }
      ],
      "source": [
        "plt.figure(figsize=(14, 7))\n",
        "\n",
        "for country in selected_countries:\n",
        "    df_gdp_country = df_gdp_agg[df_gdp_agg['Country'] == country]\n",
        "    df_consumer_country = df_consumer_agg[df_consumer_agg['Country'] == country]\n",
        "\n",
        "    plt.plot(df_gdp_country['Year'], df_gdp_country['Inflation'], label=f'{country} - GDP Inflation', linestyle='--')\n",
        "    plt.plot(df_consumer_country['Year'], df_consumer_country['Inflation'], label=f'{country} - Consumer Inflation')\n",
        "\n",
        "plt.title('GDP and Consumer Inflation Trends (1973-2014) for Selected Countries')\n",
        "plt.xlabel('Year')\n",
        "plt.ylabel('Average Inflation Rate (%)')\n",
        "plt.legend(title='Country and Inflation Type')\n",
        "plt.grid(True)\n",
        "plt.show()"
      ]
    },
    {
      "cell_type": "markdown",
      "metadata": {
        "id": "8ace0df6"
      },
      "source": [
        "## Exploratory data analysis (eda)\n",
        "\n",
        "### Subtask:\n",
        "Investigate the relationship between GDP inflation and consumer inflation.\n"
      ]
    },
    {
      "cell_type": "markdown",
      "metadata": {
        "id": "ab578eea"
      },
      "source": [
        "**Reasoning**:\n",
        "Merge the two dataframes and rename the columns for clarity as per the instructions.\n",
        "\n"
      ]
    },
    {
      "cell_type": "code",
      "execution_count": null,
      "metadata": {
        "colab": {
          "background_save": true
        },
        "id": "e088dacc",
        "outputId": "a7c11ebe-2c53-4a85-b7ea-7e4b647a61ca"
      },
      "outputs": [
        {
          "data": {
            "application/vnd.google.colaboratory.intrinsic+json": {
              "summary": "{\n  \"name\": \"display(df_merged_inflation\",\n  \"rows\": 5,\n  \"fields\": [\n    {\n      \"column\": \"Country\",\n      \"properties\": {\n        \"dtype\": \"category\",\n        \"num_unique_values\": 1,\n        \"samples\": [\n          \"Aruba\"\n        ],\n        \"semantic_type\": \"\",\n        \"description\": \"\"\n      }\n    },\n    {\n      \"column\": \"Country Code\",\n      \"properties\": {\n        \"dtype\": \"category\",\n        \"num_unique_values\": 1,\n        \"samples\": [\n          \"ABW\"\n        ],\n        \"semantic_type\": \"\",\n        \"description\": \"\"\n      }\n    },\n    {\n      \"column\": \"Year\",\n      \"properties\": {\n        \"dtype\": \"number\",\n        \"std\": 1,\n        \"min\": 1987,\n        \"max\": 1991,\n        \"num_unique_values\": 5,\n        \"samples\": [\n          1988\n        ],\n        \"semantic_type\": \"\",\n        \"description\": \"\"\n      }\n    },\n    {\n      \"column\": \"GDP Inflation\",\n      \"properties\": {\n        \"dtype\": \"number\",\n        \"std\": 1.2008664472353867,\n        \"min\": 3.12186849610723,\n        \"max\": 5.83668775158166,\n        \"num_unique_values\": 5,\n        \"samples\": [\n          3.12186849610723\n        ],\n        \"semantic_type\": \"\",\n        \"description\": \"\"\n      }\n    },\n    {\n      \"column\": \"Consumer Inflation\",\n      \"properties\": {\n        \"dtype\": \"number\",\n        \"std\": 1.210824468188672,\n        \"min\": 3.10843918798423,\n        \"max\": 5.76986990784422,\n        \"num_unique_values\": 5,\n        \"samples\": [\n          3.10843918798423\n        ],\n        \"semantic_type\": \"\",\n        \"description\": \"\"\n      }\n    }\n  ]\n}",
              "type": "dataframe"
            },
            "text/html": [
              "\n",
              "  <div id=\"df-be508c6c-69ee-4f58-a819-d06534acc5c2\" class=\"colab-df-container\">\n",
              "    <div>\n",
              "<style scoped>\n",
              "    .dataframe tbody tr th:only-of-type {\n",
              "        vertical-align: middle;\n",
              "    }\n",
              "\n",
              "    .dataframe tbody tr th {\n",
              "        vertical-align: top;\n",
              "    }\n",
              "\n",
              "    .dataframe thead th {\n",
              "        text-align: right;\n",
              "    }\n",
              "</style>\n",
              "<table border=\"1\" class=\"dataframe\">\n",
              "  <thead>\n",
              "    <tr style=\"text-align: right;\">\n",
              "      <th></th>\n",
              "      <th>Country</th>\n",
              "      <th>Country Code</th>\n",
              "      <th>Year</th>\n",
              "      <th>GDP Inflation</th>\n",
              "      <th>Consumer Inflation</th>\n",
              "    </tr>\n",
              "  </thead>\n",
              "  <tbody>\n",
              "    <tr>\n",
              "      <th>0</th>\n",
              "      <td>Aruba</td>\n",
              "      <td>ABW</td>\n",
              "      <td>1987</td>\n",
              "      <td>3.643045</td>\n",
              "      <td>3.591970</td>\n",
              "    </tr>\n",
              "    <tr>\n",
              "      <th>1</th>\n",
              "      <td>Aruba</td>\n",
              "      <td>ABW</td>\n",
              "      <td>1988</td>\n",
              "      <td>3.121868</td>\n",
              "      <td>3.108439</td>\n",
              "    </tr>\n",
              "    <tr>\n",
              "      <th>2</th>\n",
              "      <td>Aruba</td>\n",
              "      <td>ABW</td>\n",
              "      <td>1989</td>\n",
              "      <td>3.991628</td>\n",
              "      <td>3.962543</td>\n",
              "    </tr>\n",
              "    <tr>\n",
              "      <th>3</th>\n",
              "      <td>Aruba</td>\n",
              "      <td>ABW</td>\n",
              "      <td>1990</td>\n",
              "      <td>5.836688</td>\n",
              "      <td>5.769870</td>\n",
              "    </tr>\n",
              "    <tr>\n",
              "      <th>4</th>\n",
              "      <td>Aruba</td>\n",
              "      <td>ABW</td>\n",
              "      <td>1991</td>\n",
              "      <td>5.555556</td>\n",
              "      <td>5.614860</td>\n",
              "    </tr>\n",
              "  </tbody>\n",
              "</table>\n",
              "</div>\n",
              "    <div class=\"colab-df-buttons\">\n",
              "\n",
              "  <div class=\"colab-df-container\">\n",
              "    <button class=\"colab-df-convert\" onclick=\"convertToInteractive('df-be508c6c-69ee-4f58-a819-d06534acc5c2')\"\n",
              "            title=\"Convert this dataframe to an interactive table.\"\n",
              "            style=\"display:none;\">\n",
              "\n",
              "  <svg xmlns=\"http://www.w3.org/2000/svg\" height=\"24px\" viewBox=\"0 -960 960 960\">\n",
              "    <path d=\"M120-120v-720h720v720H120Zm60-500h600v-160H180v160Zm220 220h160v-160H400v160Zm0 220h160v-160H400v160ZM180-400h160v-160H180v160Zm440 0h160v-160H620v160ZM180-180h160v-160H180v160Zm440 0h160v-160H620v160Z\"/>\n",
              "  </svg>\n",
              "    </button>\n",
              "\n",
              "  <style>\n",
              "    .colab-df-container {\n",
              "      display:flex;\n",
              "      gap: 12px;\n",
              "    }\n",
              "\n",
              "    .colab-df-convert {\n",
              "      background-color: #E8F0FE;\n",
              "      border: none;\n",
              "      border-radius: 50%;\n",
              "      cursor: pointer;\n",
              "      display: none;\n",
              "      fill: #1967D2;\n",
              "      height: 32px;\n",
              "      padding: 0 0 0 0;\n",
              "      width: 32px;\n",
              "    }\n",
              "\n",
              "    .colab-df-convert:hover {\n",
              "      background-color: #E2EBFA;\n",
              "      box-shadow: 0px 1px 2px rgba(60, 64, 67, 0.3), 0px 1px 3px 1px rgba(60, 64, 67, 0.15);\n",
              "      fill: #174EA6;\n",
              "    }\n",
              "\n",
              "    .colab-df-buttons div {\n",
              "      margin-bottom: 4px;\n",
              "    }\n",
              "\n",
              "    [theme=dark] .colab-df-convert {\n",
              "      background-color: #3B4455;\n",
              "      fill: #D2E3FC;\n",
              "    }\n",
              "\n",
              "    [theme=dark] .colab-df-convert:hover {\n",
              "      background-color: #434B5C;\n",
              "      box-shadow: 0px 1px 3px 1px rgba(0, 0, 0, 0.15);\n",
              "      filter: drop-shadow(0px 1px 2px rgba(0, 0, 0, 0.3));\n",
              "      fill: #FFFFFF;\n",
              "    }\n",
              "  </style>\n",
              "\n",
              "    <script>\n",
              "      const buttonEl =\n",
              "        document.querySelector('#df-be508c6c-69ee-4f58-a819-d06534acc5c2 button.colab-df-convert');\n",
              "      buttonEl.style.display =\n",
              "        google.colab.kernel.accessAllowed ? 'block' : 'none';\n",
              "\n",
              "      async function convertToInteractive(key) {\n",
              "        const element = document.querySelector('#df-be508c6c-69ee-4f58-a819-d06534acc5c2');\n",
              "        const dataTable =\n",
              "          await google.colab.kernel.invokeFunction('convertToInteractive',\n",
              "                                                    [key], {});\n",
              "        if (!dataTable) return;\n",
              "\n",
              "        const docLinkHtml = 'Like what you see? Visit the ' +\n",
              "          '<a target=\"_blank\" href=https://colab.research.google.com/notebooks/data_table.ipynb>data table notebook</a>'\n",
              "          + ' to learn more about interactive tables.';\n",
              "        element.innerHTML = '';\n",
              "        dataTable['output_type'] = 'display_data';\n",
              "        await google.colab.output.renderOutput(dataTable, element);\n",
              "        const docLink = document.createElement('div');\n",
              "        docLink.innerHTML = docLinkHtml;\n",
              "        element.appendChild(docLink);\n",
              "      }\n",
              "    </script>\n",
              "  </div>\n",
              "\n",
              "\n",
              "    <div id=\"df-a10c224e-d26d-4724-b4b9-bee62d5d8838\">\n",
              "      <button class=\"colab-df-quickchart\" onclick=\"quickchart('df-a10c224e-d26d-4724-b4b9-bee62d5d8838')\"\n",
              "                title=\"Suggest charts\"\n",
              "                style=\"display:none;\">\n",
              "\n",
              "<svg xmlns=\"http://www.w3.org/2000/svg\" height=\"24px\"viewBox=\"0 0 24 24\"\n",
              "     width=\"24px\">\n",
              "    <g>\n",
              "        <path d=\"M19 3H5c-1.1 0-2 .9-2 2v14c0 1.1.9 2 2 2h14c1.1 0 2-.9 2-2V5c0-1.1-.9-2-2-2zM9 17H7v-7h2v7zm4 0h-2V7h2v10zm4 0h-2v-4h2v4z\"/>\n",
              "    </g>\n",
              "</svg>\n",
              "      </button>\n",
              "\n",
              "<style>\n",
              "  .colab-df-quickchart {\n",
              "      --bg-color: #E8F0FE;\n",
              "      --fill-color: #1967D2;\n",
              "      --hover-bg-color: #E2EBFA;\n",
              "      --hover-fill-color: #174EA6;\n",
              "      --disabled-fill-color: #AAA;\n",
              "      --disabled-bg-color: #DDD;\n",
              "  }\n",
              "\n",
              "  [theme=dark] .colab-df-quickchart {\n",
              "      --bg-color: #3B4455;\n",
              "      --fill-color: #D2E3FC;\n",
              "      --hover-bg-color: #434B5C;\n",
              "      --hover-fill-color: #FFFFFF;\n",
              "      --disabled-bg-color: #3B4455;\n",
              "      --disabled-fill-color: #666;\n",
              "  }\n",
              "\n",
              "  .colab-df-quickchart {\n",
              "    background-color: var(--bg-color);\n",
              "    border: none;\n",
              "    border-radius: 50%;\n",
              "    cursor: pointer;\n",
              "    display: none;\n",
              "    fill: var(--fill-color);\n",
              "    height: 32px;\n",
              "    padding: 0;\n",
              "    width: 32px;\n",
              "  }\n",
              "\n",
              "  .colab-df-quickchart:hover {\n",
              "    background-color: var(--hover-bg-color);\n",
              "    box-shadow: 0 1px 2px rgba(60, 64, 67, 0.3), 0 1px 3px 1px rgba(60, 64, 67, 0.15);\n",
              "    fill: var(--button-hover-fill-color);\n",
              "  }\n",
              "\n",
              "  .colab-df-quickchart-complete:disabled,\n",
              "  .colab-df-quickchart-complete:disabled:hover {\n",
              "    background-color: var(--disabled-bg-color);\n",
              "    fill: var(--disabled-fill-color);\n",
              "    box-shadow: none;\n",
              "  }\n",
              "\n",
              "  .colab-df-spinner {\n",
              "    border: 2px solid var(--fill-color);\n",
              "    border-color: transparent;\n",
              "    border-bottom-color: var(--fill-color);\n",
              "    animation:\n",
              "      spin 1s steps(1) infinite;\n",
              "  }\n",
              "\n",
              "  @keyframes spin {\n",
              "    0% {\n",
              "      border-color: transparent;\n",
              "      border-bottom-color: var(--fill-color);\n",
              "      border-left-color: var(--fill-color);\n",
              "    }\n",
              "    20% {\n",
              "      border-color: transparent;\n",
              "      border-left-color: var(--fill-color);\n",
              "      border-top-color: var(--fill-color);\n",
              "    }\n",
              "    30% {\n",
              "      border-color: transparent;\n",
              "      border-left-color: var(--fill-color);\n",
              "      border-top-color: var(--fill-color);\n",
              "      border-right-color: var(--fill-color);\n",
              "    }\n",
              "    40% {\n",
              "      border-color: transparent;\n",
              "      border-right-color: var(--fill-color);\n",
              "      border-top-color: var(--fill-color);\n",
              "    }\n",
              "    60% {\n",
              "      border-color: transparent;\n",
              "      border-right-color: var(--fill-color);\n",
              "    }\n",
              "    80% {\n",
              "      border-color: transparent;\n",
              "      border-right-color: var(--fill-color);\n",
              "      border-bottom-color: var(--fill-color);\n",
              "    }\n",
              "    90% {\n",
              "      border-color: transparent;\n",
              "      border-bottom-color: var(--fill-color);\n",
              "    }\n",
              "  }\n",
              "</style>\n",
              "\n",
              "      <script>\n",
              "        async function quickchart(key) {\n",
              "          const quickchartButtonEl =\n",
              "            document.querySelector('#' + key + ' button');\n",
              "          quickchartButtonEl.disabled = true;  // To prevent multiple clicks.\n",
              "          quickchartButtonEl.classList.add('colab-df-spinner');\n",
              "          try {\n",
              "            const charts = await google.colab.kernel.invokeFunction(\n",
              "                'suggestCharts', [key], {});\n",
              "          } catch (error) {\n",
              "            console.error('Error during call to suggestCharts:', error);\n",
              "          }\n",
              "          quickchartButtonEl.classList.remove('colab-df-spinner');\n",
              "          quickchartButtonEl.classList.add('colab-df-quickchart-complete');\n",
              "        }\n",
              "        (() => {\n",
              "          let quickchartButtonEl =\n",
              "            document.querySelector('#df-a10c224e-d26d-4724-b4b9-bee62d5d8838 button');\n",
              "          quickchartButtonEl.style.display =\n",
              "            google.colab.kernel.accessAllowed ? 'block' : 'none';\n",
              "        })();\n",
              "      </script>\n",
              "    </div>\n",
              "\n",
              "    </div>\n",
              "  </div>\n"
            ],
            "text/plain": [
              "  Country Country Code  Year  GDP Inflation  Consumer Inflation\n",
              "0   Aruba          ABW  1987       3.643045            3.591970\n",
              "1   Aruba          ABW  1988       3.121868            3.108439\n",
              "2   Aruba          ABW  1989       3.991628            3.962543\n",
              "3   Aruba          ABW  1990       5.836688            5.769870\n",
              "4   Aruba          ABW  1991       5.555556            5.614860"
            ]
          },
          "metadata": {},
          "output_type": "display_data"
        }
      ],
      "source": [
        "# Merge the dataframes on Country, Country Code, and Year\n",
        "df_merged_inflation = pd.merge(df_gdp, df_consumer, on=['Country', 'Country Code', 'Year'], suffixes=('_gdp', '_consumer'))\n",
        "\n",
        "# Rename the inflation columns\n",
        "df_merged_inflation.rename(columns={'Inflation_gdp': 'GDP Inflation', 'Inflation_consumer': 'Consumer Inflation'}, inplace=True)\n",
        "\n",
        "# Display the first few rows of the merged dataframe to verify the merge and renaming\n",
        "display(df_merged_inflation.head())"
      ]
    },
    {
      "cell_type": "markdown",
      "metadata": {
        "id": "a5fa518c"
      },
      "source": [
        "**Reasoning**:\n",
        "Create a scatter plot to visualize the relationship between GDP Inflation and Consumer Inflation with appropriate labels and title.\n",
        "\n"
      ]
    },
    {
      "cell_type": "code",
      "execution_count": null,
      "metadata": {
        "colab": {
          "background_save": true
        },
        "id": "4007eb23",
        "outputId": "3425bba5-0387-4929-cbe1-e6164e42ba1b"
      },
      "outputs": [
        {
          "data": {
            "image/png": "[encoded data removed]",
            "text/plain": [
              "<Figure size 1000x600 with 1 Axes>"
            ]
          },
          "metadata": {},
          "output_type": "display_data"
        }
      ],
      "source": [
        "# Create a scatter plot of 'GDP Inflation' vs. 'Consumer Inflation'\n",
        "plt.figure(figsize=(10, 6))\n",
        "plt.scatter(df_merged_inflation['GDP Inflation'], df_merged_inflation['Consumer Inflation'], alpha=0.5)\n",
        "\n",
        "# Add labels and title\n",
        "plt.xlabel('GDP Inflation (%)')\n",
        "plt.ylabel('Consumer Inflation (%)')\n",
        "plt.title('Relationship between GDP Inflation and Consumer Inflation')\n",
        "plt.grid(True)\n",
        "\n",
        "# Display the plot\n",
        "plt.show()"
      ]
    },
    {
      "cell_type": "markdown",
      "metadata": {
        "id": "f7f50fb3"
      },
      "source": [
        "## Comparative analysis\n",
        "\n",
        "### Subtask:\n",
        "Compare inflation trends between different countries or groups of countries.\n"
      ]
    },
    {
      "cell_type": "markdown",
      "metadata": {
        "id": "0f93ca41"
      },
      "source": [
        "**Reasoning**:\n",
        "Filter both the df_gdp and df_consumer DataFrames to include only the data for the newly selected countries/groups and the specified time range (1973-2014). Aggregate the filtered data for both GDP and consumer inflation by country/group and year, calculating the mean inflation rate for each.\n",
        "\n"
      ]
    },
    {
      "cell_type": "code",
      "execution_count": null,
      "metadata": {
        "colab": {
          "background_save": true
        },
        "id": "8491e617",
        "outputId": "aff861e4-4ac6-4348-ad89-5ff6ee57206a"
      },
      "outputs": [
        {
          "data": {
            "application/vnd.google.colaboratory.intrinsic+json": {
              "summary": "{\n  \"name\": \"display(df_consumer_agg_additional\",\n  \"rows\": 5,\n  \"fields\": [\n    {\n      \"column\": \"Country\",\n      \"properties\": {\n        \"dtype\": \"category\",\n        \"num_unique_values\": 1,\n        \"samples\": [\n          \"Brazil\"\n        ],\n        \"semantic_type\": \"\",\n        \"description\": \"\"\n      }\n    },\n    {\n      \"column\": \"Year\",\n      \"properties\": {\n        \"dtype\": \"number\",\n        \"std\": 1,\n        \"min\": 1981,\n        \"max\": 1985,\n        \"num_unique_values\": 5,\n        \"samples\": [\n          1982\n        ],\n        \"semantic_type\": \"\",\n        \"description\": \"\"\n      }\n    },\n    {\n      \"column\": \"Inflation\",\n      \"properties\": {\n        \"dtype\": \"number\",\n        \"std\": 55.99870440984203,\n        \"min\": 100.54335919485,\n        \"max\": 225.989665211895,\n        \"num_unique_values\": 5,\n        \"samples\": [\n          100.54335919485\n        ],\n        \"semantic_type\": \"\",\n        \"description\": \"\"\n      }\n    }\n  ]\n}",
              "type": "dataframe"
            },
            "text/html": [
              "\n",
              "  <div id=\"df-e2bb5ee8-853a-4b35-9824-c047e2c31957\" class=\"colab-df-container\">\n",
              "    <div>\n",
              "<style scoped>\n",
              "    .dataframe tbody tr th:only-of-type {\n",
              "        vertical-align: middle;\n",
              "    }\n",
              "\n",
              "    .dataframe tbody tr th {\n",
              "        vertical-align: top;\n",
              "    }\n",
              "\n",
              "    .dataframe thead th {\n",
              "        text-align: right;\n",
              "    }\n",
              "</style>\n",
              "<table border=\"1\" class=\"dataframe\">\n",
              "  <thead>\n",
              "    <tr style=\"text-align: right;\">\n",
              "      <th></th>\n",
              "      <th>Country</th>\n",
              "      <th>Year</th>\n",
              "      <th>Inflation</th>\n",
              "    </tr>\n",
              "  </thead>\n",
              "  <tbody>\n",
              "    <tr>\n",
              "      <th>0</th>\n",
              "      <td>Brazil</td>\n",
              "      <td>1981</td>\n",
              "      <td>101.725073</td>\n",
              "    </tr>\n",
              "    <tr>\n",
              "      <th>1</th>\n",
              "      <td>Brazil</td>\n",
              "      <td>1982</td>\n",
              "      <td>100.543359</td>\n",
              "    </tr>\n",
              "    <tr>\n",
              "      <th>2</th>\n",
              "      <td>Brazil</td>\n",
              "      <td>1983</td>\n",
              "      <td>135.027682</td>\n",
              "    </tr>\n",
              "    <tr>\n",
              "      <th>3</th>\n",
              "      <td>Brazil</td>\n",
              "      <td>1984</td>\n",
              "      <td>192.121733</td>\n",
              "    </tr>\n",
              "    <tr>\n",
              "      <th>4</th>\n",
              "      <td>Brazil</td>\n",
              "      <td>1985</td>\n",
              "      <td>225.989665</td>\n",
              "    </tr>\n",
              "  </tbody>\n",
              "</table>\n",
              "</div>\n",
              "    <div class=\"colab-df-buttons\">\n",
              "\n",
              "  <div class=\"colab-df-container\">\n",
              "    <button class=\"colab-df-convert\" onclick=\"convertToInteractive('df-e2bb5ee8-853a-4b35-9824-c047e2c31957')\"\n",
              "            title=\"Convert this dataframe to an interactive table.\"\n",
              "            style=\"display:none;\">\n",
              "\n",
              "  <svg xmlns=\"http://www.w3.org/2000/svg\" height=\"24px\" viewBox=\"0 -960 960 960\">\n",
              "    <path d=\"M120-120v-720h720v720H120Zm60-500h600v-160H180v160Zm220 220h160v-160H400v160Zm0 220h160v-160H400v160ZM180-400h160v-160H180v160Zm440 0h160v-160H620v160ZM180-180h160v-160H180v160Zm440 0h160v-160H620v160Z\"/>\n",
              "  </svg>\n",
              "    </button>\n",
              "\n",
              "  <style>\n",
              "    .colab-df-container {\n",
              "      display:flex;\n",
              "      gap: 12px;\n",
              "    }\n",
              "\n",
              "    .colab-df-convert {\n",
              "      background-color: #E8F0FE;\n",
              "      border: none;\n",
              "      border-radius: 50%;\n",
              "      cursor: pointer;\n",
              "      display: none;\n",
              "      fill: #1967D2;\n",
              "      height: 32px;\n",
              "      padding: 0 0 0 0;\n",
              "      width: 32px;\n",
              "    }\n",
              "\n",
              "    .colab-df-convert:hover {\n",
              "      background-color: #E2EBFA;\n",
              "      box-shadow: 0px 1px 2px rgba(60, 64, 67, 0.3), 0px 1px 3px 1px rgba(60, 64, 67, 0.15);\n",
              "      fill: #174EA6;\n",
              "    }\n",
              "\n",
              "    .colab-df-buttons div {\n",
              "      margin-bottom: 4px;\n",
              "    }\n",
              "\n",
              "    [theme=dark] .colab-df-convert {\n",
              "      background-color: #3B4455;\n",
              "      fill: #D2E3FC;\n",
              "    }\n",
              "\n",
              "    [theme=dark] .colab-df-convert:hover {\n",
              "      background-color: #434B5C;\n",
              "      box-shadow: 0px 1px 3px 1px rgba(0, 0, 0, 0.15);\n",
              "      filter: drop-shadow(0px 1px 2px rgba(0, 0, 0, 0.3));\n",
              "      fill: #FFFFFF;\n",
              "    }\n",
              "  </style>\n",
              "\n",
              "    <script>\n",
              "      const buttonEl =\n",
              "        document.querySelector('#df-e2bb5ee8-853a-4b35-9824-c047e2c31957 button.colab-df-convert');\n",
              "      buttonEl.style.display =\n",
              "        google.colab.kernel.accessAllowed ? 'block' : 'none';\n",
              "\n",
              "      async function convertToInteractive(key) {\n",
              "        const element = document.querySelector('#df-e2bb5ee8-853a-4b35-9824-c047e2c31957');\n",
              "        const dataTable =\n",
              "          await google.colab.kernel.invokeFunction('convertToInteractive',\n",
              "                                                    [key], {});\n",
              "        if (!dataTable) return;\n",
              "\n",
              "        const docLinkHtml = 'Like what you see? Visit the ' +\n",
              "          '<a target=\"_blank\" href=https://colab.research.google.com/notebooks/data_table.ipynb>data table notebook</a>'\n",
              "          + ' to learn more about interactive tables.';\n",
              "        element.innerHTML = '';\n",
              "        dataTable['output_type'] = 'display_data';\n",
              "        await google.colab.output.renderOutput(dataTable, element);\n",
              "        const docLink = document.createElement('div');\n",
              "        docLink.innerHTML = docLinkHtml;\n",
              "        element.appendChild(docLink);\n",
              "      }\n",
              "    </script>\n",
              "  </div>\n",
              "\n",
              "\n",
              "    <div id=\"df-52b22571-5ff1-495c-a674-b050995e538e\">\n",
              "      <button class=\"colab-df-quickchart\" onclick=\"quickchart('df-52b22571-5ff1-495c-a674-b050995e538e')\"\n",
              "                title=\"Suggest charts\"\n",
              "                style=\"display:none;\">\n",
              "\n",
              "<svg xmlns=\"http://www.w3.org/2000/svg\" height=\"24px\"viewBox=\"0 0 24 24\"\n",
              "     width=\"24px\">\n",
              "    <g>\n",
              "        <path d=\"M19 3H5c-1.1 0-2 .9-2 2v14c0 1.1.9 2 2 2h14c1.1 0 2-.9 2-2V5c0-1.1-.9-2-2-2zM9 17H7v-7h2v7zm4 0h-2V7h2v10zm4 0h-2v-4h2v4z\"/>\n",
              "    </g>\n",
              "</svg>\n",
              "      </button>\n",
              "\n",
              "<style>\n",
              "  .colab-df-quickchart {\n",
              "      --bg-color: #E8F0FE;\n",
              "      --fill-color: #1967D2;\n",
              "      --hover-bg-color: #E2EBFA;\n",
              "      --hover-fill-color: #174EA6;\n",
              "      --disabled-fill-color: #AAA;\n",
              "      --disabled-bg-color: #DDD;\n",
              "  }\n",
              "\n",
              "  [theme=dark] .colab-df-quickchart {\n",
              "      --bg-color: #3B4455;\n",
              "      --fill-color: #D2E3FC;\n",
              "      --hover-bg-color: #434B5C;\n",
              "      --hover-fill-color: #FFFFFF;\n",
              "      --disabled-bg-color: #3B4455;\n",
              "      --disabled-fill-color: #666;\n",
              "  }\n",
              "\n",
              "  .colab-df-quickchart {\n",
              "    background-color: var(--bg-color);\n",
              "    border: none;\n",
              "    border-radius: 50%;\n",
              "    cursor: pointer;\n",
              "    display: none;\n",
              "    fill: var(--fill-color);\n",
              "    height: 32px;\n",
              "    padding: 0;\n",
              "    width: 32px;\n",
              "  }\n",
              "\n",
              "  .colab-df-quickchart:hover {\n",
              "    background-color: var(--hover-bg-color);\n",
              "    box-shadow: 0 1px 2px rgba(60, 64, 67, 0.3), 0 1px 3px 1px rgba(60, 64, 67, 0.15);\n",
              "    fill: var(--button-hover-fill-color);\n",
              "  }\n",
              "\n",
              "  .colab-df-quickchart-complete:disabled,\n",
              "  .colab-df-quickchart-complete:disabled:hover {\n",
              "    background-color: var(--disabled-bg-color);\n",
              "    fill: var(--disabled-fill-color);\n",
              "    box-shadow: none;\n",
              "  }\n",
              "\n",
              "  .colab-df-spinner {\n",
              "    border: 2px solid var(--fill-color);\n",
              "    border-color: transparent;\n",
              "    border-bottom-color: var(--fill-color);\n",
              "    animation:\n",
              "      spin 1s steps(1) infinite;\n",
              "  }\n",
              "\n",
              "  @keyframes spin {\n",
              "    0% {\n",
              "      border-color: transparent;\n",
              "      border-bottom-color: var(--fill-color);\n",
              "      border-left-color: var(--fill-color);\n",
              "    }\n",
              "    20% {\n",
              "      border-color: transparent;\n",
              "      border-left-color: var(--fill-color);\n",
              "      border-top-color: var(--fill-color);\n",
              "    }\n",
              "    30% {\n",
              "      border-color: transparent;\n",
              "      border-left-color: var(--fill-color);\n",
              "      border-top-color: var(--fill-color);\n",
              "      border-right-color: var(--fill-color);\n",
              "    }\n",
              "    40% {\n",
              "      border-color: transparent;\n",
              "      border-right-color: var(--fill-color);\n",
              "      border-top-color: var(--fill-color);\n",
              "    }\n",
              "    60% {\n",
              "      border-color: transparent;\n",
              "      border-right-color: var(--fill-color);\n",
              "    }\n",
              "    80% {\n",
              "      border-color: transparent;\n",
              "      border-right-color: var(--fill-color);\n",
              "      border-bottom-color: var(--fill-color);\n",
              "    }\n",
              "    90% {\n",
              "      border-color: transparent;\n",
              "      border-bottom-color: var(--fill-color);\n",
              "    }\n",
              "  }\n",
              "</style>\n",
              "\n",
              "      <script>\n",
              "        async function quickchart(key) {\n",
              "          const quickchartButtonEl =\n",
              "            document.querySelector('#' + key + ' button');\n",
              "          quickchartButtonEl.disabled = true;  // To prevent multiple clicks.\n",
              "          quickchartButtonEl.classList.add('colab-df-spinner');\n",
              "          try {\n",
              "            const charts = await google.colab.kernel.invokeFunction(\n",
              "                'suggestCharts', [key], {});\n",
              "          } catch (error) {\n",
              "            console.error('Error during call to suggestCharts:', error);\n",
              "          }\n",
              "          quickchartButtonEl.classList.remove('colab-df-spinner');\n",
              "          quickchartButtonEl.classList.add('colab-df-quickchart-complete');\n",
              "        }\n",
              "        (() => {\n",
              "          let quickchartButtonEl =\n",
              "            document.querySelector('#df-52b22571-5ff1-495c-a674-b050995e538e button');\n",
              "          quickchartButtonEl.style.display =\n",
              "            google.colab.kernel.accessAllowed ? 'block' : 'none';\n",
              "        })();\n",
              "      </script>\n",
              "    </div>\n",
              "\n",
              "    </div>\n",
              "  </div>\n"
            ],
            "text/plain": [
              "  Country  Year   Inflation\n",
              "0  Brazil  1981  101.725073\n",
              "1  Brazil  1982  100.543359\n",
              "2  Brazil  1983  135.027682\n",
              "3  Brazil  1984  192.121733\n",
              "4  Brazil  1985  225.989665"
            ]
          },
          "metadata": {},
          "output_type": "display_data"
        },
        {
          "data": {
            "application/vnd.google.colaboratory.intrinsic+json": {
              "summary": "{\n  \"name\": \"display(df_consumer_agg_additional\",\n  \"rows\": 5,\n  \"fields\": [\n    {\n      \"column\": \"Country\",\n      \"properties\": {\n        \"dtype\": \"category\",\n        \"num_unique_values\": 1,\n        \"samples\": [\n          \"Brazil\"\n        ],\n        \"semantic_type\": \"\",\n        \"description\": \"\"\n      }\n    },\n    {\n      \"column\": \"Year\",\n      \"properties\": {\n        \"dtype\": \"number\",\n        \"std\": 1,\n        \"min\": 1973,\n        \"max\": 1977,\n        \"num_unique_values\": 5,\n        \"samples\": [\n          1974\n        ],\n        \"semantic_type\": \"\",\n        \"description\": \"\"\n      }\n    },\n    {\n      \"column\": \"Inflation\",\n      \"properties\": {\n        \"dtype\": \"number\",\n        \"std\": 6.292718375236921,\n        \"min\": 29.5803566969394,\n        \"max\": 45.3980562145509,\n        \"num_unique_values\": 5,\n        \"samples\": [\n          34.6058549964615\n        ],\n        \"semantic_type\": \"\",\n        \"description\": \"\"\n      }\n    }\n  ]\n}",
              "type": "dataframe"
            },
            "text/html": [
              "\n",
              "  <div id=\"df-70433d45-bb40-4e02-a8d4-b479704a42ff\" class=\"colab-df-container\">\n",
              "    <div>\n",
              "<style scoped>\n",
              "    .dataframe tbody tr th:only-of-type {\n",
              "        vertical-align: middle;\n",
              "    }\n",
              "\n",
              "    .dataframe tbody tr th {\n",
              "        vertical-align: top;\n",
              "    }\n",
              "\n",
              "    .dataframe thead th {\n",
              "        text-align: right;\n",
              "    }\n",
              "</style>\n",
              "<table border=\"1\" class=\"dataframe\">\n",
              "  <thead>\n",
              "    <tr style=\"text-align: right;\">\n",
              "      <th></th>\n",
              "      <th>Country</th>\n",
              "      <th>Year</th>\n",
              "      <th>Inflation</th>\n",
              "    </tr>\n",
              "  </thead>\n",
              "  <tbody>\n",
              "    <tr>\n",
              "      <th>0</th>\n",
              "      <td>Brazil</td>\n",
              "      <td>1973</td>\n",
              "      <td>29.580357</td>\n",
              "    </tr>\n",
              "    <tr>\n",
              "      <th>1</th>\n",
              "      <td>Brazil</td>\n",
              "      <td>1974</td>\n",
              "      <td>34.605855</td>\n",
              "    </tr>\n",
              "    <tr>\n",
              "      <th>2</th>\n",
              "      <td>Brazil</td>\n",
              "      <td>1975</td>\n",
              "      <td>33.929437</td>\n",
              "    </tr>\n",
              "    <tr>\n",
              "      <th>3</th>\n",
              "      <td>Brazil</td>\n",
              "      <td>1976</td>\n",
              "      <td>41.203624</td>\n",
              "    </tr>\n",
              "    <tr>\n",
              "      <th>4</th>\n",
              "      <td>Brazil</td>\n",
              "      <td>1977</td>\n",
              "      <td>45.398056</td>\n",
              "    </tr>\n",
              "  </tbody>\n",
              "</table>\n",
              "</div>\n",
              "    <div class=\"colab-df-buttons\">\n",
              "\n",
              "  <div class=\"colab-df-container\">\n",
              "    <button class=\"colab-df-convert\" onclick=\"convertToInteractive('df-70433d45-bb40-4e02-a8d4-b479704a42ff')\"\n",
              "            title=\"Convert this dataframe to an interactive table.\"\n",
              "            style=\"display:none;\">\n",
              "\n",
              "  <svg xmlns=\"http://www.w3.org/2000/svg\" height=\"24px\" viewBox=\"0 -960 960 960\">\n",
              "    <path d=\"M120-120v-720h720v720H120Zm60-500h600v-160H180v160Zm220 220h160v-160H400v160Zm0 220h160v-160H400v160ZM180-400h160v-160H180v160Zm440 0h160v-160H620v160ZM180-180h160v-160H180v160Zm440 0h160v-160H620v160Z\"/>\n",
              "  </svg>\n",
              "    </button>\n",
              "\n",
              "  <style>\n",
              "    .colab-df-container {\n",
              "      display:flex;\n",
              "      gap: 12px;\n",
              "    }\n",
              "\n",
              "    .colab-df-convert {\n",
              "      background-color: #E8F0FE;\n",
              "      border: none;\n",
              "      border-radius: 50%;\n",
              "      cursor: pointer;\n",
              "      display: none;\n",
              "      fill: #1967D2;\n",
              "      height: 32px;\n",
              "      padding: 0 0 0 0;\n",
              "      width: 32px;\n",
              "    }\n",
              "\n",
              "    .colab-df-convert:hover {\n",
              "      background-color: #E2EBFA;\n",
              "      box-shadow: 0px 1px 2px rgba(60, 64, 67, 0.3), 0px 1px 3px 1px rgba(60, 64, 67, 0.15);\n",
              "      fill: #174EA6;\n",
              "    }\n",
              "\n",
              "    .colab-df-buttons div {\n",
              "      margin-bottom: 4px;\n",
              "    }\n",
              "\n",
              "    [theme=dark] .colab-df-convert {\n",
              "      background-color: #3B4455;\n",
              "      fill: #D2E3FC;\n",
              "    }\n",
              "\n",
              "    [theme=dark] .colab-df-convert:hover {\n",
              "      background-color: #434B5C;\n",
              "      box-shadow: 0px 1px 3px 1px rgba(0, 0, 0, 0.15);\n",
              "      filter: drop-shadow(0px 1px 2px rgba(0, 0, 0, 0.3));\n",
              "      fill: #FFFFFF;\n",
              "    }\n",
              "  </style>\n",
              "\n",
              "    <script>\n",
              "      const buttonEl =\n",
              "        document.querySelector('#df-70433d45-bb40-4e02-a8d4-b479704a42ff button.colab-df-convert');\n",
              "      buttonEl.style.display =\n",
              "        google.colab.kernel.accessAllowed ? 'block' : 'none';\n",
              "\n",
              "      async function convertToInteractive(key) {\n",
              "        const element = document.querySelector('#df-70433d45-bb40-4e02-a8d4-b479704a42ff');\n",
              "        const dataTable =\n",
              "          await google.colab.kernel.invokeFunction('convertToInteractive',\n",
              "                                                    [key], {});\n",
              "        if (!dataTable) return;\n",
              "\n",
              "        const docLinkHtml = 'Like what you see? Visit the ' +\n",
              "          '<a target=\"_blank\" href=https://colab.research.google.com/notebooks/data_table.ipynb>data table notebook</a>'\n",
              "          + ' to learn more about interactive tables.';\n",
              "        element.innerHTML = '';\n",
              "        dataTable['output_type'] = 'display_data';\n",
              "        await google.colab.output.renderOutput(dataTable, element);\n",
              "        const docLink = document.createElement('div');\n",
              "        docLink.innerHTML = docLinkHtml;\n",
              "        element.appendChild(docLink);\n",
              "      }\n",
              "    </script>\n",
              "  </div>\n",
              "\n",
              "\n",
              "    <div id=\"df-3d6d06c4-6d5c-4c65-9750-7e568ce6efeb\">\n",
              "      <button class=\"colab-df-quickchart\" onclick=\"quickchart('df-3d6d06c4-6d5c-4c65-9750-7e568ce6efeb')\"\n",
              "                title=\"Suggest charts\"\n",
              "                style=\"display:none;\">\n",
              "\n",
              "<svg xmlns=\"http://www.w3.org/2000/svg\" height=\"24px\"viewBox=\"0 0 24 24\"\n",
              "     width=\"24px\">\n",
              "    <g>\n",
              "        <path d=\"M19 3H5c-1.1 0-2 .9-2 2v14c0 1.1.9 2 2 2h14c1.1 0 2-.9 2-2V5c0-1.1-.9-2-2-2zM9 17H7v-7h2v7zm4 0h-2V7h2v10zm4 0h-2v-4h2v4z\"/>\n",
              "    </g>\n",
              "</svg>\n",
              "      </button>\n",
              "\n",
              "<style>\n",
              "  .colab-df-quickchart {\n",
              "      --bg-color: #E8F0FE;\n",
              "      --fill-color: #1967D2;\n",
              "      --hover-bg-color: #E2EBFA;\n",
              "      --hover-fill-color: #174EA6;\n",
              "      --disabled-fill-color: #AAA;\n",
              "      --disabled-bg-color: #DDD;\n",
              "  }\n",
              "\n",
              "  [theme=dark] .colab-df-quickchart {\n",
              "      --bg-color: #3B4455;\n",
              "      --fill-color: #D2E3FC;\n",
              "      --hover-bg-color: #434B5C;\n",
              "      --hover-fill-color: #FFFFFF;\n",
              "      --disabled-bg-color: #3B4455;\n",
              "      --disabled-fill-color: #666;\n",
              "  }\n",
              "\n",
              "  .colab-df-quickchart {\n",
              "    background-color: var(--bg-color);\n",
              "    border: none;\n",
              "    border-radius: 50%;\n",
              "    cursor: pointer;\n",
              "    display: none;\n",
              "    fill: var(--fill-color);\n",
              "    height: 32px;\n",
              "    padding: 0;\n",
              "    width: 32px;\n",
              "  }\n",
              "\n",
              "  .colab-df-quickchart:hover {\n",
              "    background-color: var(--hover-bg-color);\n",
              "    box-shadow: 0 1px 2px rgba(60, 64, 67, 0.3), 0 1px 3px 1px rgba(60, 64, 67, 0.15);\n",
              "    fill: var(--button-hover-fill-color);\n",
              "  }\n",
              "\n",
              "  .colab-df-quickchart-complete:disabled,\n",
              "  .colab-df-quickchart-complete:disabled:hover {\n",
              "    background-color: var(--disabled-bg-color);\n",
              "    fill: var(--disabled-fill-color);\n",
              "    box-shadow: none;\n",
              "  }\n",
              "\n",
              "  .colab-df-spinner {\n",
              "    border: 2px solid var(--fill-color);\n",
              "    border-color: transparent;\n",
              "    border-bottom-color: var(--fill-color);\n",
              "    animation:\n",
              "      spin 1s steps(1) infinite;\n",
              "  }\n",
              "\n",
              "  @keyframes spin {\n",
              "    0% {\n",
              "      border-color: transparent;\n",
              "      border-bottom-color: var(--fill-color);\n",
              "      border-left-color: var(--fill-color);\n",
              "    }\n",
              "    20% {\n",
              "      border-color: transparent;\n",
              "      border-left-color: var(--fill-color);\n",
              "      border-top-color: var(--fill-color);\n",
              "    }\n",
              "    30% {\n",
              "      border-color: transparent;\n",
              "      border-left-color: var(--fill-color);\n",
              "      border-top-color: var(--fill-color);\n",
              "      border-right-color: var(--fill-color);\n",
              "    }\n",
              "    40% {\n",
              "      border-color: transparent;\n",
              "      border-right-color: var(--fill-color);\n",
              "      border-top-color: var(--fill-color);\n",
              "    }\n",
              "    60% {\n",
              "      border-color: transparent;\n",
              "      border-right-color: var(--fill-color);\n",
              "    }\n",
              "    80% {\n",
              "      border-color: transparent;\n",
              "      border-right-color: var(--fill-color);\n",
              "      border-bottom-color: var(--fill-color);\n",
              "    }\n",
              "    90% {\n",
              "      border-color: transparent;\n",
              "      border-bottom-color: var(--fill-color);\n",
              "    }\n",
              "  }\n",
              "</style>\n",
              "\n",
              "      <script>\n",
              "        async function quickchart(key) {\n",
              "          const quickchartButtonEl =\n",
              "            document.querySelector('#' + key + ' button');\n",
              "          quickchartButtonEl.disabled = true;  // To prevent multiple clicks.\n",
              "          quickchartButtonEl.classList.add('colab-df-spinner');\n",
              "          try {\n",
              "            const charts = await google.colab.kernel.invokeFunction(\n",
              "                'suggestCharts', [key], {});\n",
              "          } catch (error) {\n",
              "            console.error('Error during call to suggestCharts:', error);\n",
              "          }\n",
              "          quickchartButtonEl.classList.remove('colab-df-spinner');\n",
              "          quickchartButtonEl.classList.add('colab-df-quickchart-complete');\n",
              "        }\n",
              "        (() => {\n",
              "          let quickchartButtonEl =\n",
              "            document.querySelector('#df-3d6d06c4-6d5c-4c65-9750-7e568ce6efeb button');\n",
              "          quickchartButtonEl.style.display =\n",
              "            google.colab.kernel.accessAllowed ? 'block' : 'none';\n",
              "        })();\n",
              "      </script>\n",
              "    </div>\n",
              "\n",
              "    </div>\n",
              "  </div>\n"
            ],
            "text/plain": [
              "  Country  Year  Inflation\n",
              "0  Brazil  1973  29.580357\n",
              "1  Brazil  1974  34.605855\n",
              "2  Brazil  1975  33.929437\n",
              "3  Brazil  1976  41.203624\n",
              "4  Brazil  1977  45.398056"
            ]
          },
          "metadata": {},
          "output_type": "display_data"
        }
      ],
      "source": [
        "# Select additional countries to compare\n",
        "additional_countries = ['Japan', 'Brazil', 'India']\n",
        "\n",
        "# Filter data for the newly selected countries and the specified time range (1973-2014)\n",
        "df_gdp_additional = df_gdp[df_gdp['Country'].isin(additional_countries) & (df_gdp['Year'] >= 1973) & (df_gdp['Year'] <= 2014)]\n",
        "df_consumer_additional = df_consumer[df_consumer['Country'].isin(additional_countries) & (df_consumer['Year'] >= 1973) & (df_consumer['Year'] <= 2014)]\n",
        "\n",
        "# Aggregate the filtered data by country and year, calculating the mean inflation rate\n",
        "df_gdp_agg_additional = df_gdp_additional.groupby(['Country', 'Year'])['Inflation'].mean().reset_index()\n",
        "df_consumer_agg_additional = df_consumer_additional.groupby(['Country', 'Year'])['Inflation'].mean().reset_index()\n",
        "\n",
        "# Display the first few rows of the aggregated dataframes to verify\n",
        "display(df_gdp_agg_additional.head())\n",
        "display(df_consumer_agg_additional.head())"
      ]
    },
    {
      "cell_type": "markdown",
      "metadata": {
        "id": "5494eb41"
      },
      "source": [
        "**Reasoning**:\n",
        "Create line plots visualizing the GDP and consumer inflation trends over time for the newly selected countries/groups. Ensure clear labeling, titles, and legends to distinguish between countries/groups and inflation types. Analyze and compare the observed trends across the different countries/groups, noting similarities, differences, and any interesting patterns.\n",
        "\n"
      ]
    },
    {
      "cell_type": "code",
      "execution_count": null,
      "metadata": {
        "colab": {
          "background_save": true
        },
        "id": "5257ccaa",
        "outputId": "22ff99d4-1140-4d8e-e27b-4bdc7dcd8135"
      },
      "outputs": [
        {
          "data": {
            "image/png": "[encoded data removed]",
            "text/plain": [
              "<Figure size 1400x700 with 1 Axes>"
            ]
          },
          "metadata": {},
          "output_type": "display_data"
        }
      ],
      "source": [
        "plt.figure(figsize=(14, 7))\n",
        "\n",
        "for country in additional_countries:\n",
        "    df_gdp_country = df_gdp_agg_additional[df_gdp_agg_additional['Country'] == country]\n",
        "    df_consumer_country = df_consumer_agg_additional[df_consumer_agg_additional['Country'] == country]\n",
        "\n",
        "    plt.plot(df_gdp_country['Year'], df_gdp_country['Inflation'], label=f'{country} - GDP Inflation', linestyle='--')\n",
        "    plt.plot(df_consumer_country['Year'], df_consumer_country['Inflation'], label=f'{country} - Consumer Inflation')\n",
        "\n",
        "plt.title('GDP and Consumer Inflation Trends (1973-2014) for Japan, Brazil, and India')\n",
        "plt.xlabel('Year')\n",
        "plt.ylabel('Average Inflation Rate (%)')\n",
        "plt.legend(title='Country and Inflation Type')\n",
        "plt.grid(True)\n",
        "plt.show()\n",
        "\n",
        "# Analysis of observed trends:\n",
        "# The plot shows significant differences in inflation trends among Japan, Brazil, and India during the 1973-2014 period.\n",
        "# Brazil experienced very high and volatile inflation rates, particularly in the 1980s and early 1990s, for both GDP and consumer prices.\n",
        "# India shows moderately high but less volatile inflation compared to Brazil, with some fluctuations over the years.\n",
        "# Japan, in contrast, consistently maintained very low inflation rates, often close to zero or even negative, reflecting a different economic environment.\n",
        "# For Brazil and India, GDP and consumer inflation trends appear somewhat correlated, while for Japan, both remained low."
      ]
    },
    {
      "cell_type": "markdown",
      "metadata": {
        "id": "dadb7d7e"
      },
      "source": [
        "## Data visualization\n",
        "\n",
        "### Subtask:\n",
        "Create various plots to visualize the findings from the EDA and comparative analysis, such as line plots for time trends, histograms for distributions, and scatter plots for relationships.\n"
      ]
    },
    {
      "cell_type": "markdown",
      "metadata": {
        "id": "15d74758"
      },
      "source": [
        "**Reasoning**:\n",
        "Create a scatter plot to visualize the relationship between GDP Inflation and Consumer Inflation using the df_merged_inflation DataFrame, add labels and a title, and display the plot.\n",
        "\n"
      ]
    },
    {
      "cell_type": "code",
      "execution_count": null,
      "metadata": {
        "colab": {
          "background_save": true
        },
        "id": "8515b86f",
        "outputId": "2e5e643b-a648-40a3-dadc-774c10d9c0cf"
      },
      "outputs": [
        {
          "data": {
            "image/png": "[encoded data removed]",
            "text/plain": [
              "<Figure size 1000x600 with 1 Axes>"
            ]
          },
          "metadata": {},
          "output_type": "display_data"
        }
      ],
      "source": [
        "# Create a scatter plot to visualize the relationship between GDP Inflation and Consumer Inflation\n",
        "plt.figure(figsize=(10, 6))\n",
        "plt.scatter(df_merged_inflation['GDP Inflation'], df_merged_inflation['Consumer Inflation'], alpha=0.5)\n",
        "\n",
        "# Add a title, x-axis label, and y-axis label to the scatter plot\n",
        "plt.title('Relationship between GDP Inflation and Consumer Inflation')\n",
        "plt.xlabel('GDP Inflation (%)')\n",
        "plt.ylabel('Consumer Inflation (%)')\n",
        "plt.grid(True)\n",
        "\n",
        "# Display the scatter plot\n",
        "plt.show()"
      ]
    },
    {
      "cell_type": "markdown",
      "metadata": {
        "id": "043ddbef"
      },
      "source": [
        "**Reasoning**:\n",
        "Create a line plot showing the GDP inflation trend over time for India using the df_gdp_country DataFrame, add labels and a title, and display the plot.\n",
        "\n"
      ]
    },
    {
      "cell_type": "code",
      "execution_count": null,
      "metadata": {
        "colab": {
          "background_save": true
        },
        "id": "92b3f9c5",
        "outputId": "23a7b78e-b3d8-4293-e4c7-e245670841cb"
      },
      "outputs": [
        {
          "data": {
            "image/png": "[encoded data removed]",
            "text/plain": [
              "<Figure size 1200x600 with 1 Axes>"
            ]
          },
          "metadata": {},
          "output_type": "display_data"
        }
      ],
      "source": [
        "# Create a line plot showing the GDP inflation trend over time for India\n",
        "plt.figure(figsize=(12, 6))\n",
        "plt.plot(df_gdp_country['Year'], df_gdp_country['Inflation'], label='India - GDP Inflation', color='blue')\n",
        "\n",
        "# Add a title, x-axis label, and y-axis label to the line plot\n",
        "plt.title('GDP Inflation Trend Over Time for India (1973-2014)')\n",
        "plt.xlabel('Year')\n",
        "plt.ylabel('GDP Inflation (%)')\n",
        "plt.grid(True)\n",
        "plt.legend()\n",
        "\n",
        "# Display the line plot\n",
        "plt.show()"
      ]
    },
    {
      "cell_type": "markdown",
      "metadata": {
        "id": "0d382911"
      },
      "source": [
        "**Reasoning**:\n",
        "Create a line plot showing the Consumer inflation trend over time for India using the df_consumer_country DataFrame, add labels and a title, and display the plot.\n",
        "\n"
      ]
    },
    {
      "cell_type": "code",
      "execution_count": null,
      "metadata": {
        "colab": {
          "background_save": true
        },
        "id": "55303292",
        "outputId": "177c72d6-cad7-4256-fe13-235b3b473f7e"
      },
      "outputs": [
        {
          "data": {
            "image/png": "[encoded data removed]",
            "text/plain": [
              "<Figure size 1200x600 with 1 Axes>"
            ]
          },
          "metadata": {},
          "output_type": "display_data"
        }
      ],
      "source": [
        "# Create a line plot showing the Consumer inflation trend over time for India\n",
        "plt.figure(figsize=(12, 6))\n",
        "plt.plot(df_consumer_country['Year'], df_consumer_country['Inflation'], label='India - Consumer Inflation', color='red')\n",
        "\n",
        "# Add a title, x-axis label and y-axis label to the line plot\n",
        "plt.title('Consumer Inflation Trend Over Time for India (1973-2014)')\n",
        "plt.xlabel('Year')\n",
        "plt.ylabel('Consumer Inflation (%)')\n",
        "plt.grid(True)\n",
        "plt.legend()\n",
        "\n",
        "# Display the line plot\n",
        "plt.show()"
      ]
    },
    {
      "cell_type": "markdown",
      "metadata": {
        "id": "9f61ba8f"
      },
      "source": [
        "## Creative analysis\n",
        "\n",
        "### Subtask:\n",
        "Explore potential correlations with other factors (though we only have inflation data, we can think creatively about what might influence these numbers and discuss limitations). Perhaps look at the most volatile countries in terms of inflation.\n"
      ]
    },
    {
      "cell_type": "markdown",
      "metadata": {
        "id": "2922f72d"
      },
      "source": [
        "**Reasoning**:\n",
        "Calculate the standard deviation for both GDP and Consumer Inflation for each country in the merged dataframe to measure volatility.\n",
        "\n"
      ]
    },
    {
      "cell_type": "code",
      "execution_count": null,
      "metadata": {
        "colab": {
          "background_save": true
        },
        "id": "41d3138f",
        "outputId": "e50872c3-9622-4299-a324-3e2136cca400"
      },
      "outputs": [
        {
          "data": {
            "application/vnd.google.colaboratory.intrinsic+json": {
              "summary": "{\n  \"name\": \"display(df_inflation_volatility\",\n  \"rows\": 5,\n  \"fields\": [\n    {\n      \"column\": \"Country\",\n      \"properties\": {\n        \"dtype\": \"string\",\n        \"num_unique_values\": 5,\n        \"samples\": [\n          \"Africa Eastern and Southern\",\n          \"Algeria\",\n          \"Africa Western and Central\"\n        ],\n        \"semantic_type\": \"\",\n        \"description\": \"\"\n      }\n    },\n    {\n      \"column\": \"GDP Inflation Std Dev\",\n      \"properties\": {\n        \"dtype\": \"number\",\n        \"std\": 16.06444090826267,\n        \"min\": 3.7380828933853065,\n        \"max\": 41.68036987481757,\n        \"num_unique_values\": 5,\n        \"samples\": [\n          3.7380828933853065,\n          7.363230617786568,\n          5.301633646513544\n        ],\n        \"semantic_type\": \"\",\n        \"description\": \"\"\n      }\n    },\n    {\n      \"column\": \"Consumer Inflation Std Dev\",\n      \"properties\": {\n        \"dtype\": \"number\",\n        \"std\": 17.74555263674906,\n        \"min\": 3.945933768120592,\n        \"max\": 45.60553636814981,\n        \"num_unique_values\": 5,\n        \"samples\": [\n          3.945933768120592,\n          11.913024273225597,\n          4.333636139456868\n        ],\n        \"semantic_type\": \"\",\n        \"description\": \"\"\n      }\n    }\n  ]\n}",
              "type": "dataframe"
            },
            "text/html": [
              "\n",
              "  <div id=\"df-081319f6-0ef8-4bbd-9d53-b7953dc068b4\" class=\"colab-df-container\">\n",
              "    <div>\n",
              "<style scoped>\n",
              "    .dataframe tbody tr th:only-of-type {\n",
              "        vertical-align: middle;\n",
              "    }\n",
              "\n",
              "    .dataframe tbody tr th {\n",
              "        vertical-align: top;\n",
              "    }\n",
              "\n",
              "    .dataframe thead th {\n",
              "        text-align: right;\n",
              "    }\n",
              "</style>\n",
              "<table border=\"1\" class=\"dataframe\">\n",
              "  <thead>\n",
              "    <tr style=\"text-align: right;\">\n",
              "      <th></th>\n",
              "      <th>Country</th>\n",
              "      <th>GDP Inflation Std Dev</th>\n",
              "      <th>Consumer Inflation Std Dev</th>\n",
              "    </tr>\n",
              "  </thead>\n",
              "  <tbody>\n",
              "    <tr>\n",
              "      <th>0</th>\n",
              "      <td>Afghanistan</td>\n",
              "      <td>7.263764</td>\n",
              "      <td>6.091495</td>\n",
              "    </tr>\n",
              "    <tr>\n",
              "      <th>1</th>\n",
              "      <td>Africa Eastern and Southern</td>\n",
              "      <td>3.738083</td>\n",
              "      <td>3.945934</td>\n",
              "    </tr>\n",
              "    <tr>\n",
              "      <th>2</th>\n",
              "      <td>Africa Western and Central</td>\n",
              "      <td>5.301634</td>\n",
              "      <td>4.333636</td>\n",
              "    </tr>\n",
              "    <tr>\n",
              "      <th>3</th>\n",
              "      <td>Albania</td>\n",
              "      <td>41.680370</td>\n",
              "      <td>45.605536</td>\n",
              "    </tr>\n",
              "    <tr>\n",
              "      <th>4</th>\n",
              "      <td>Algeria</td>\n",
              "      <td>7.363231</td>\n",
              "      <td>11.913024</td>\n",
              "    </tr>\n",
              "  </tbody>\n",
              "</table>\n",
              "</div>\n",
              "    <div class=\"colab-df-buttons\">\n",
              "\n",
              "  <div class=\"colab-df-container\">\n",
              "    <button class=\"colab-df-convert\" onclick=\"convertToInteractive('df-081319f6-0ef8-4bbd-9d53-b7953dc068b4')\"\n",
              "            title=\"Convert this dataframe to an interactive table.\"\n",
              "            style=\"display:none;\">\n",
              "\n",
              "  <svg xmlns=\"http://www.w3.org/2000/svg\" height=\"24px\" viewBox=\"0 -960 960 960\">\n",
              "    <path d=\"M120-120v-720h720v720H120Zm60-500h600v-160H180v160Zm220 220h160v-160H400v160Zm0 220h160v-160H400v160ZM180-400h160v-160H180v160Zm440 0h160v-160H620v160ZM180-180h160v-160H180v160Zm440 0h160v-160H620v160Z\"/>\n",
              "  </svg>\n",
              "    </button>\n",
              "\n",
              "  <style>\n",
              "    .colab-df-container {\n",
              "      display:flex;\n",
              "      gap: 12px;\n",
              "    }\n",
              "\n",
              "    .colab-df-convert {\n",
              "      background-color: #E8F0FE;\n",
              "      border: none;\n",
              "      border-radius: 50%;\n",
              "      cursor: pointer;\n",
              "      display: none;\n",
              "      fill: #1967D2;\n",
              "      height: 32px;\n",
              "      padding: 0 0 0 0;\n",
              "      width: 32px;\n",
              "    }\n",
              "\n",
              "    .colab-df-convert:hover {\n",
              "      background-color: #E2EBFA;\n",
              "      box-shadow: 0px 1px 2px rgba(60, 64, 67, 0.3), 0px 1px 3px 1px rgba(60, 64, 67, 0.15);\n",
              "      fill: #174EA6;\n",
              "    }\n",
              "\n",
              "    .colab-df-buttons div {\n",
              "      margin-bottom: 4px;\n",
              "    }\n",
              "\n",
              "    [theme=dark] .colab-df-convert {\n",
              "      background-color: #3B4455;\n",
              "      fill: #D2E3FC;\n",
              "    }\n",
              "\n",
              "    [theme=dark] .colab-df-convert:hover {\n",
              "      background-color: #434B5C;\n",
              "      box-shadow: 0px 1px 3px 1px rgba(0, 0, 0, 0.15);\n",
              "      filter: drop-shadow(0px 1px 2px rgba(0, 0, 0, 0.3));\n",
              "      fill: #FFFFFF;\n",
              "    }\n",
              "  </style>\n",
              "\n",
              "    <script>\n",
              "      const buttonEl =\n",
              "        document.querySelector('#df-081319f6-0ef8-4bbd-9d53-b7953dc068b4 button.colab-df-convert');\n",
              "      buttonEl.style.display =\n",
              "        google.colab.kernel.accessAllowed ? 'block' : 'none';\n",
              "\n",
              "      async function convertToInteractive(key) {\n",
              "        const element = document.querySelector('#df-081319f6-0ef8-4bbd-9d53-b7953dc068b4');\n",
              "        const dataTable =\n",
              "          await google.colab.kernel.invokeFunction('convertToInteractive',\n",
              "                                                    [key], {});\n",
              "        if (!dataTable) return;\n",
              "\n",
              "        const docLinkHtml = 'Like what you see? Visit the ' +\n",
              "          '<a target=\"_blank\" href=https://colab.research.google.com/notebooks/data_table.ipynb>data table notebook</a>'\n",
              "          + ' to learn more about interactive tables.';\n",
              "        element.innerHTML = '';\n",
              "        dataTable['output_type'] = 'display_data';\n",
              "        await google.colab.output.renderOutput(dataTable, element);\n",
              "        const docLink = document.createElement('div');\n",
              "        docLink.innerHTML = docLinkHtml;\n",
              "        element.appendChild(docLink);\n",
              "      }\n",
              "    </script>\n",
              "  </div>\n",
              "\n",
              "\n",
              "    <div id=\"df-4f34a19b-a59d-4b88-86c5-98c438cb3fd3\">\n",
              "      <button class=\"colab-df-quickchart\" onclick=\"quickchart('df-4f34a19b-a59d-4b88-86c5-98c438cb3fd3')\"\n",
              "                title=\"Suggest charts\"\n",
              "                style=\"display:none;\">\n",
              "\n",
              "<svg xmlns=\"http://www.w3.org/2000/svg\" height=\"24px\"viewBox=\"0 0 24 24\"\n",
              "     width=\"24px\">\n",
              "    <g>\n",
              "        <path d=\"M19 3H5c-1.1 0-2 .9-2 2v14c0 1.1.9 2 2 2h14c1.1 0 2-.9 2-2V5c0-1.1-.9-2-2-2zM9 17H7v-7h2v7zm4 0h-2V7h2v10zm4 0h-2v-4h2v4z\"/>\n",
              "    </g>\n",
              "</svg>\n",
              "      </button>\n",
              "\n",
              "<style>\n",
              "  .colab-df-quickchart {\n",
              "      --bg-color: #E8F0FE;\n",
              "      --fill-color: #1967D2;\n",
              "      --hover-bg-color: #E2EBFA;\n",
              "      --hover-fill-color: #174EA6;\n",
              "      --disabled-fill-color: #AAA;\n",
              "      --disabled-bg-color: #DDD;\n",
              "  }\n",
              "\n",
              "  [theme=dark] .colab-df-quickchart {\n",
              "      --bg-color: #3B4455;\n",
              "      --fill-color: #D2E3FC;\n",
              "      --hover-bg-color: #434B5C;\n",
              "      --hover-fill-color: #FFFFFF;\n",
              "      --disabled-bg-color: #3B4455;\n",
              "      --disabled-fill-color: #666;\n",
              "  }\n",
              "\n",
              "  .colab-df-quickchart {\n",
              "    background-color: var(--bg-color);\n",
              "    border: none;\n",
              "    border-radius: 50%;\n",
              "    cursor: pointer;\n",
              "    display: none;\n",
              "    fill: var(--fill-color);\n",
              "    height: 32px;\n",
              "    padding: 0;\n",
              "    width: 32px;\n",
              "  }\n",
              "\n",
              "  .colab-df-quickchart:hover {\n",
              "    background-color: var(--hover-bg-color);\n",
              "    box-shadow: 0 1px 2px rgba(60, 64, 67, 0.3), 0 1px 3px 1px rgba(60, 64, 67, 0.15);\n",
              "    fill: var(--button-hover-fill-color);\n",
              "  }\n",
              "\n",
              "  .colab-df-quickchart-complete:disabled,\n",
              "  .colab-df-quickchart-complete:disabled:hover {\n",
              "    background-color: var(--disabled-bg-color);\n",
              "    fill: var(--disabled-fill-color);\n",
              "    box-shadow: none;\n",
              "  }\n",
              "\n",
              "  .colab-df-spinner {\n",
              "    border: 2px solid var(--fill-color);\n",
              "    border-color: transparent;\n",
              "    border-bottom-color: var(--fill-color);\n",
              "    animation:\n",
              "      spin 1s steps(1) infinite;\n",
              "  }\n",
              "\n",
              "  @keyframes spin {\n",
              "    0% {\n",
              "      border-color: transparent;\n",
              "      border-bottom-color: var(--fill-color);\n",
              "      border-left-color: var(--fill-color);\n",
              "    }\n",
              "    20% {\n",
              "      border-color: transparent;\n",
              "      border-left-color: var(--fill-color);\n",
              "      border-top-color: var(--fill-color);\n",
              "    }\n",
              "    30% {\n",
              "      border-color: transparent;\n",
              "      border-left-color: var(--fill-color);\n",
              "      border-top-color: var(--fill-color);\n",
              "      border-right-color: var(--fill-color);\n",
              "    }\n",
              "    40% {\n",
              "      border-color: transparent;\n",
              "      border-right-color: var(--fill-color);\n",
              "      border-top-color: var(--fill-color);\n",
              "    }\n",
              "    60% {\n",
              "      border-color: transparent;\n",
              "      border-right-color: var(--fill-color);\n",
              "    }\n",
              "    80% {\n",
              "      border-color: transparent;\n",
              "      border-right-color: var(--fill-color);\n",
              "      border-bottom-color: var(--fill-color);\n",
              "    }\n",
              "    90% {\n",
              "      border-color: transparent;\n",
              "      border-bottom-color: var(--fill-color);\n",
              "    }\n",
              "  }\n",
              "</style>\n",
              "\n",
              "      <script>\n",
              "        async function quickchart(key) {\n",
              "          const quickchartButtonEl =\n",
              "            document.querySelector('#' + key + ' button');\n",
              "          quickchartButtonEl.disabled = true;  // To prevent multiple clicks.\n",
              "          quickchartButtonEl.classList.add('colab-df-spinner');\n",
              "          try {\n",
              "            const charts = await google.colab.kernel.invokeFunction(\n",
              "                'suggestCharts', [key], {});\n",
              "          } catch (error) {\n",
              "            console.error('Error during call to suggestCharts:', error);\n",
              "          }\n",
              "          quickchartButtonEl.classList.remove('colab-df-spinner');\n",
              "          quickchartButtonEl.classList.add('colab-df-quickchart-complete');\n",
              "        }\n",
              "        (() => {\n",
              "          let quickchartButtonEl =\n",
              "            document.querySelector('#df-4f34a19b-a59d-4b88-86c5-98c438cb3fd3 button');\n",
              "          quickchartButtonEl.style.display =\n",
              "            google.colab.kernel.accessAllowed ? 'block' : 'none';\n",
              "        })();\n",
              "      </script>\n",
              "    </div>\n",
              "\n",
              "    </div>\n",
              "  </div>\n"
            ],
            "text/plain": [
              "                       Country  GDP Inflation Std Dev  \\\n",
              "0                  Afghanistan               7.263764   \n",
              "1  Africa Eastern and Southern               3.738083   \n",
              "2   Africa Western and Central               5.301634   \n",
              "3                      Albania              41.680370   \n",
              "4                      Algeria               7.363231   \n",
              "\n",
              "   Consumer Inflation Std Dev  \n",
              "0                    6.091495  \n",
              "1                    3.945934  \n",
              "2                    4.333636  \n",
              "3                   45.605536  \n",
              "4                   11.913024  "
            ]
          },
          "metadata": {},
          "output_type": "display_data"
        }
      ],
      "source": [
        "# Calculate the standard deviation of 'GDP Inflation' and 'Consumer Inflation' for each country\n",
        "df_inflation_volatility = df_merged_inflation.groupby('Country')[['GDP Inflation', 'Consumer Inflation']].std().reset_index()\n",
        "\n",
        "# Rename the columns to reflect that they are standard deviations\n",
        "df_inflation_volatility.rename(columns={\n",
        "    'GDP Inflation': 'GDP Inflation Std Dev',\n",
        "    'Consumer Inflation': 'Consumer Inflation Std Dev'\n",
        "}, inplace=True)\n",
        "\n",
        "# Display the first few rows of the volatility dataframe\n",
        "display(df_inflation_volatility.head())"
      ]
    },
    {
      "cell_type": "markdown",
      "metadata": {
        "id": "8e13b327"
      },
      "source": [
        "**Reasoning**:\n",
        "Sort the countries by their inflation volatility (standard deviation) for both GDP and Consumer Inflation and display the top 10 for each to identify the most volatile countries.\n",
        "\n"
      ]
    },
    {
      "cell_type": "code",
      "execution_count": null,
      "metadata": {
        "colab": {
          "background_save": true
        },
        "id": "f7409ace",
        "outputId": "f81d58fe-2217-4c87-8da0-6194fe2877c5"
      },
      "outputs": [
        {
          "name": "stdout",
          "output_type": "stream",
          "text": [
            "Top 10 Countries by GDP Inflation Volatility:\n"
          ]
        },
        {
          "data": {
            "application/vnd.google.colaboratory.intrinsic+json": {
              "summary": "{\n  \"name\": \"display(df_consumer_volatility_sorted\",\n  \"rows\": 10,\n  \"fields\": [\n    {\n      \"column\": \"Country\",\n      \"properties\": {\n        \"dtype\": \"string\",\n        \"num_unique_values\": 10,\n        \"samples\": [\n          \"Azerbaijan\",\n          \"Bolivia\",\n          \"Brazil\"\n        ],\n        \"semantic_type\": \"\",\n        \"description\": \"\"\n      }\n    },\n    {\n      \"column\": \"GDP Inflation Std Dev\",\n      \"properties\": {\n        \"dtype\": \"number\",\n        \"std\": 882.9048700392469,\n        \"min\": 341.2813218555084,\n        \"max\": 3304.200060807865,\n        \"num_unique_values\": 10,\n        \"samples\": [\n          352.5895926997392,\n          1484.6202405606402,\n          640.5161673040778\n        ],\n        \"semantic_type\": \"\",\n        \"description\": \"\"\n      }\n    },\n    {\n      \"column\": \"Consumer Inflation Std Dev\",\n      \"properties\": {\n        \"dtype\": \"number\",\n        \"std\": 1020.9372522762511,\n        \"min\": 280.46529866308265,\n        \"max\": 3713.8692960543585,\n        \"num_unique_values\": 10,\n        \"samples\": [\n          332.2340840185998,\n          1560.2180378317169,\n          630.7486273248501\n        ],\n        \"semantic_type\": \"\",\n        \"description\": \"\"\n      }\n    }\n  ]\n}",
              "type": "dataframe"
            },
            "text/html": [
              "\n",
              "  <div id=\"df-648dff88-b878-4b97-9196-baaf1071c440\" class=\"colab-df-container\">\n",
              "    <div>\n",
              "<style scoped>\n",
              "    .dataframe tbody tr th:only-of-type {\n",
              "        vertical-align: middle;\n",
              "    }\n",
              "\n",
              "    .dataframe tbody tr th {\n",
              "        vertical-align: top;\n",
              "    }\n",
              "\n",
              "    .dataframe thead th {\n",
              "        text-align: right;\n",
              "    }\n",
              "</style>\n",
              "<table border=\"1\" class=\"dataframe\">\n",
              "  <thead>\n",
              "    <tr style=\"text-align: right;\">\n",
              "      <th></th>\n",
              "      <th>Country</th>\n",
              "      <th>GDP Inflation Std Dev</th>\n",
              "      <th>Consumer Inflation Std Dev</th>\n",
              "    </tr>\n",
              "  </thead>\n",
              "  <tbody>\n",
              "    <tr>\n",
              "      <th>43</th>\n",
              "      <td>Congo, Dem. Rep.</td>\n",
              "      <td>3304.200061</td>\n",
              "      <td>3713.869296</td>\n",
              "    </tr>\n",
              "    <tr>\n",
              "      <th>22</th>\n",
              "      <td>Bolivia</td>\n",
              "      <td>1484.620241</td>\n",
              "      <td>1560.218038</td>\n",
              "    </tr>\n",
              "    <tr>\n",
              "      <th>172</th>\n",
              "      <td>Peru</td>\n",
              "      <td>1027.222677</td>\n",
              "      <td>846.577143</td>\n",
              "    </tr>\n",
              "    <tr>\n",
              "      <th>5</th>\n",
              "      <td>Angola</td>\n",
              "      <td>860.721890</td>\n",
              "      <td>940.080760</td>\n",
              "    </tr>\n",
              "    <tr>\n",
              "      <th>224</th>\n",
              "      <td>Ukraine</td>\n",
              "      <td>857.000063</td>\n",
              "      <td>614.332829</td>\n",
              "    </tr>\n",
              "    <tr>\n",
              "      <th>25</th>\n",
              "      <td>Brazil</td>\n",
              "      <td>640.516167</td>\n",
              "      <td>630.748627</td>\n",
              "    </tr>\n",
              "    <tr>\n",
              "      <th>8</th>\n",
              "      <td>Armenia</td>\n",
              "      <td>614.840279</td>\n",
              "      <td>748.582865</td>\n",
              "    </tr>\n",
              "    <tr>\n",
              "      <th>17</th>\n",
              "      <td>Belarus</td>\n",
              "      <td>451.633194</td>\n",
              "      <td>397.311573</td>\n",
              "    </tr>\n",
              "    <tr>\n",
              "      <th>12</th>\n",
              "      <td>Azerbaijan</td>\n",
              "      <td>352.589593</td>\n",
              "      <td>332.234084</td>\n",
              "    </tr>\n",
              "    <tr>\n",
              "      <th>108</th>\n",
              "      <td>Kazakhstan</td>\n",
              "      <td>341.281322</td>\n",
              "      <td>280.465299</td>\n",
              "    </tr>\n",
              "  </tbody>\n",
              "</table>\n",
              "</div>\n",
              "    <div class=\"colab-df-buttons\">\n",
              "\n",
              "  <div class=\"colab-df-container\">\n",
              "    <button class=\"colab-df-convert\" onclick=\"convertToInteractive('df-648dff88-b878-4b97-9196-baaf1071c440')\"\n",
              "            title=\"Convert this dataframe to an interactive table.\"\n",
              "            style=\"display:none;\">\n",
              "\n",
              "  <svg xmlns=\"http://www.w3.org/2000/svg\" height=\"24px\" viewBox=\"0 -960 960 960\">\n",
              "    <path d=\"M120-120v-720h720v720H120Zm60-500h600v-160H180v160Zm220 220h160v-160H400v160Zm0 220h160v-160H400v160ZM180-400h160v-160H180v160Zm440 0h160v-160H620v160ZM180-180h160v-160H180v160Zm440 0h160v-160H620v160Z\"/>\n",
              "  </svg>\n",
              "    </button>\n",
              "\n",
              "  <style>\n",
              "    .colab-df-container {\n",
              "      display:flex;\n",
              "      gap: 12px;\n",
              "    }\n",
              "\n",
              "    .colab-df-convert {\n",
              "      background-color: #E8F0FE;\n",
              "      border: none;\n",
              "      border-radius: 50%;\n",
              "      cursor: pointer;\n",
              "      display: none;\n",
              "      fill: #1967D2;\n",
              "      height: 32px;\n",
              "      padding: 0 0 0 0;\n",
              "      width: 32px;\n",
              "    }\n",
              "\n",
              "    .colab-df-convert:hover {\n",
              "      background-color: #E2EBFA;\n",
              "      box-shadow: 0px 1px 2px rgba(60, 64, 67, 0.3), 0px 1px 3px 1px rgba(60, 64, 67, 0.15);\n",
              "      fill: #174EA6;\n",
              "    }\n",
              "\n",
              "    .colab-df-buttons div {\n",
              "      margin-bottom: 4px;\n",
              "    }\n",
              "\n",
              "    [theme=dark] .colab-df-convert {\n",
              "      background-color: #3B4455;\n",
              "      fill: #D2E3FC;\n",
              "    }\n",
              "\n",
              "    [theme=dark] .colab-df-convert:hover {\n",
              "      background-color: #434B5C;\n",
              "      box-shadow: 0px 1px 3px 1px rgba(0, 0, 0, 0.15);\n",
              "      filter: drop-shadow(0px 1px 2px rgba(0, 0, 0, 0.3));\n",
              "      fill: #FFFFFF;\n",
              "    }\n",
              "  </style>\n",
              "\n",
              "    <script>\n",
              "      const buttonEl =\n",
              "        document.querySelector('#df-648dff88-b878-4b97-9196-baaf1071c440 button.colab-df-convert');\n",
              "      buttonEl.style.display =\n",
              "        google.colab.kernel.accessAllowed ? 'block' : 'none';\n",
              "\n",
              "      async function convertToInteractive(key) {\n",
              "        const element = document.querySelector('#df-648dff88-b878-4b97-9196-baaf1071c440');\n",
              "        const dataTable =\n",
              "          await google.colab.kernel.invokeFunction('convertToInteractive',\n",
              "                                                    [key], {});\n",
              "        if (!dataTable) return;\n",
              "\n",
              "        const docLinkHtml = 'Like what you see? Visit the ' +\n",
              "          '<a target=\"_blank\" href=https://colab.research.google.com/notebooks/data_table.ipynb>data table notebook</a>'\n",
              "          + ' to learn more about interactive tables.';\n",
              "        element.innerHTML = '';\n",
              "        dataTable['output_type'] = 'display_data';\n",
              "        await google.colab.output.renderOutput(dataTable, element);\n",
              "        const docLink = document.createElement('div');\n",
              "        docLink.innerHTML = docLinkHtml;\n",
              "        element.appendChild(docLink);\n",
              "      }\n",
              "    </script>\n",
              "  </div>\n",
              "\n",
              "\n",
              "    <div id=\"df-9e439d31-15cf-45fc-8391-d14946bcec4c\">\n",
              "      <button class=\"colab-df-quickchart\" onclick=\"quickchart('df-9e439d31-15cf-45fc-8391-d14946bcec4c')\"\n",
              "                title=\"Suggest charts\"\n",
              "                style=\"display:none;\">\n",
              "\n",
              "<svg xmlns=\"http://www.w3.org/2000/svg\" height=\"24px\"viewBox=\"0 0 24 24\"\n",
              "     width=\"24px\">\n",
              "    <g>\n",
              "        <path d=\"M19 3H5c-1.1 0-2 .9-2 2v14c0 1.1.9 2 2 2h14c1.1 0 2-.9 2-2V5c0-1.1-.9-2-2-2zM9 17H7v-7h2v7zm4 0h-2V7h2v10zm4 0h-2v-4h2v4z\"/>\n",
              "    </g>\n",
              "</svg>\n",
              "      </button>\n",
              "\n",
              "<style>\n",
              "  .colab-df-quickchart {\n",
              "      --bg-color: #E8F0FE;\n",
              "      --fill-color: #1967D2;\n",
              "      --hover-bg-color: #E2EBFA;\n",
              "      --hover-fill-color: #174EA6;\n",
              "      --disabled-fill-color: #AAA;\n",
              "      --disabled-bg-color: #DDD;\n",
              "  }\n",
              "\n",
              "  [theme=dark] .colab-df-quickchart {\n",
              "      --bg-color: #3B4455;\n",
              "      --fill-color: #D2E3FC;\n",
              "      --hover-bg-color: #434B5C;\n",
              "      --hover-fill-color: #FFFFFF;\n",
              "      --disabled-bg-color: #3B4455;\n",
              "      --disabled-fill-color: #666;\n",
              "  }\n",
              "\n",
              "  .colab-df-quickchart {\n",
              "    background-color: var(--bg-color);\n",
              "    border: none;\n",
              "    border-radius: 50%;\n",
              "    cursor: pointer;\n",
              "    display: none;\n",
              "    fill: var(--fill-color);\n",
              "    height: 32px;\n",
              "    padding: 0;\n",
              "    width: 32px;\n",
              "  }\n",
              "\n",
              "  .colab-df-quickchart:hover {\n",
              "    background-color: var(--hover-bg-color);\n",
              "    box-shadow: 0 1px 2px rgba(60, 64, 67, 0.3), 0 1px 3px 1px rgba(60, 64, 67, 0.15);\n",
              "    fill: var(--button-hover-fill-color);\n",
              "  }\n",
              "\n",
              "  .colab-df-quickchart-complete:disabled,\n",
              "  .colab-df-quickchart-complete:disabled:hover {\n",
              "    background-color: var(--disabled-bg-color);\n",
              "    fill: var(--disabled-fill-color);\n",
              "    box-shadow: none;\n",
              "  }\n",
              "\n",
              "  .colab-df-spinner {\n",
              "    border: 2px solid var(--fill-color);\n",
              "    border-color: transparent;\n",
              "    border-bottom-color: var(--fill-color);\n",
              "    animation:\n",
              "      spin 1s steps(1) infinite;\n",
              "  }\n",
              "\n",
              "  @keyframes spin {\n",
              "    0% {\n",
              "      border-color: transparent;\n",
              "      border-bottom-color: var(--fill-color);\n",
              "      border-left-color: var(--fill-color);\n",
              "    }\n",
              "    20% {\n",
              "      border-color: transparent;\n",
              "      border-left-color: var(--fill-color);\n",
              "      border-top-color: var(--fill-color);\n",
              "    }\n",
              "    30% {\n",
              "      border-color: transparent;\n",
              "      border-left-color: var(--fill-color);\n",
              "      border-top-color: var(--fill-color);\n",
              "      border-right-color: var(--fill-color);\n",
              "    }\n",
              "    40% {\n",
              "      border-color: transparent;\n",
              "      border-right-color: var(--fill-color);\n",
              "      border-top-color: var(--fill-color);\n",
              "    }\n",
              "    60% {\n",
              "      border-color: transparent;\n",
              "      border-right-color: var(--fill-color);\n",
              "    }\n",
              "    80% {\n",
              "      border-color: transparent;\n",
              "      border-right-color: var(--fill-color);\n",
              "      border-bottom-color: var(--fill-color);\n",
              "    }\n",
              "    90% {\n",
              "      border-color: transparent;\n",
              "      border-bottom-color: var(--fill-color);\n",
              "    }\n",
              "  }\n",
              "</style>\n",
              "\n",
              "      <script>\n",
              "        async function quickchart(key) {\n",
              "          const quickchartButtonEl =\n",
              "            document.querySelector('#' + key + ' button');\n",
              "          quickchartButtonEl.disabled = true;  // To prevent multiple clicks.\n",
              "          quickchartButtonEl.classList.add('colab-df-spinner');\n",
              "          try {\n",
              "            const charts = await google.colab.kernel.invokeFunction(\n",
              "                'suggestCharts', [key], {});\n",
              "          } catch (error) {\n",
              "            console.error('Error during call to suggestCharts:', error);\n",
              "          }\n",
              "          quickchartButtonEl.classList.remove('colab-df-spinner');\n",
              "          quickchartButtonEl.classList.add('colab-df-quickchart-complete');\n",
              "        }\n",
              "        (() => {\n",
              "          let quickchartButtonEl =\n",
              "            document.querySelector('#df-9e439d31-15cf-45fc-8391-d14946bcec4c button');\n",
              "          quickchartButtonEl.style.display =\n",
              "            google.colab.kernel.accessAllowed ? 'block' : 'none';\n",
              "        })();\n",
              "      </script>\n",
              "    </div>\n",
              "\n",
              "    </div>\n",
              "  </div>\n"
            ],
            "text/plain": [
              "              Country  GDP Inflation Std Dev  Consumer Inflation Std Dev\n",
              "43   Congo, Dem. Rep.            3304.200061                 3713.869296\n",
              "22            Bolivia            1484.620241                 1560.218038\n",
              "172              Peru            1027.222677                  846.577143\n",
              "5              Angola             860.721890                  940.080760\n",
              "224           Ukraine             857.000063                  614.332829\n",
              "25             Brazil             640.516167                  630.748627\n",
              "8             Armenia             614.840279                  748.582865\n",
              "17            Belarus             451.633194                  397.311573\n",
              "12         Azerbaijan             352.589593                  332.234084\n",
              "108        Kazakhstan             341.281322                  280.465299"
            ]
          },
          "metadata": {},
          "output_type": "display_data"
        },
        {
          "name": "stdout",
          "output_type": "stream",
          "text": [
            "\n",
            "Top 10 Countries by Consumer Inflation Volatility:\n"
          ]
        },
        {
          "data": {
            "application/vnd.google.colaboratory.intrinsic+json": {
              "summary": "{\n  \"name\": \"display(df_consumer_volatility_sorted\",\n  \"rows\": 10,\n  \"fields\": [\n    {\n      \"column\": \"Country\",\n      \"properties\": {\n        \"dtype\": \"string\",\n        \"num_unique_values\": 10,\n        \"samples\": [\n          \"Azerbaijan\",\n          \"Bolivia\",\n          \"Brazil\"\n        ],\n        \"semantic_type\": \"\",\n        \"description\": \"\"\n      }\n    },\n    {\n      \"column\": \"GDP Inflation Std Dev\",\n      \"properties\": {\n        \"dtype\": \"number\",\n        \"std\": 882.9048700392469,\n        \"min\": 341.2813218555084,\n        \"max\": 3304.200060807865,\n        \"num_unique_values\": 10,\n        \"samples\": [\n          352.5895926997392,\n          1484.6202405606402,\n          640.5161673040778\n        ],\n        \"semantic_type\": \"\",\n        \"description\": \"\"\n      }\n    },\n    {\n      \"column\": \"Consumer Inflation Std Dev\",\n      \"properties\": {\n        \"dtype\": \"number\",\n        \"std\": 1020.9372522762511,\n        \"min\": 280.46529866308265,\n        \"max\": 3713.8692960543585,\n        \"num_unique_values\": 10,\n        \"samples\": [\n          332.2340840185998,\n          1560.2180378317169,\n          630.7486273248501\n        ],\n        \"semantic_type\": \"\",\n        \"description\": \"\"\n      }\n    }\n  ]\n}",
              "type": "dataframe"
            },
            "text/html": [
              "\n",
              "  <div id=\"df-c6b7c012-b80f-4c59-8717-2d7e205dad55\" class=\"colab-df-container\">\n",
              "    <div>\n",
              "<style scoped>\n",
              "    .dataframe tbody tr th:only-of-type {\n",
              "        vertical-align: middle;\n",
              "    }\n",
              "\n",
              "    .dataframe tbody tr th {\n",
              "        vertical-align: top;\n",
              "    }\n",
              "\n",
              "    .dataframe thead th {\n",
              "        text-align: right;\n",
              "    }\n",
              "</style>\n",
              "<table border=\"1\" class=\"dataframe\">\n",
              "  <thead>\n",
              "    <tr style=\"text-align: right;\">\n",
              "      <th></th>\n",
              "      <th>Country</th>\n",
              "      <th>GDP Inflation Std Dev</th>\n",
              "      <th>Consumer Inflation Std Dev</th>\n",
              "    </tr>\n",
              "  </thead>\n",
              "  <tbody>\n",
              "    <tr>\n",
              "      <th>43</th>\n",
              "      <td>Congo, Dem. Rep.</td>\n",
              "      <td>3304.200061</td>\n",
              "      <td>3713.869296</td>\n",
              "    </tr>\n",
              "    <tr>\n",
              "      <th>22</th>\n",
              "      <td>Bolivia</td>\n",
              "      <td>1484.620241</td>\n",
              "      <td>1560.218038</td>\n",
              "    </tr>\n",
              "    <tr>\n",
              "      <th>5</th>\n",
              "      <td>Angola</td>\n",
              "      <td>860.721890</td>\n",
              "      <td>940.080760</td>\n",
              "    </tr>\n",
              "    <tr>\n",
              "      <th>172</th>\n",
              "      <td>Peru</td>\n",
              "      <td>1027.222677</td>\n",
              "      <td>846.577143</td>\n",
              "    </tr>\n",
              "    <tr>\n",
              "      <th>8</th>\n",
              "      <td>Armenia</td>\n",
              "      <td>614.840279</td>\n",
              "      <td>748.582865</td>\n",
              "    </tr>\n",
              "    <tr>\n",
              "      <th>25</th>\n",
              "      <td>Brazil</td>\n",
              "      <td>640.516167</td>\n",
              "      <td>630.748627</td>\n",
              "    </tr>\n",
              "    <tr>\n",
              "      <th>224</th>\n",
              "      <td>Ukraine</td>\n",
              "      <td>857.000063</td>\n",
              "      <td>614.332829</td>\n",
              "    </tr>\n",
              "    <tr>\n",
              "      <th>17</th>\n",
              "      <td>Belarus</td>\n",
              "      <td>451.633194</td>\n",
              "      <td>397.311573</td>\n",
              "    </tr>\n",
              "    <tr>\n",
              "      <th>12</th>\n",
              "      <td>Azerbaijan</td>\n",
              "      <td>352.589593</td>\n",
              "      <td>332.234084</td>\n",
              "    </tr>\n",
              "    <tr>\n",
              "      <th>108</th>\n",
              "      <td>Kazakhstan</td>\n",
              "      <td>341.281322</td>\n",
              "      <td>280.465299</td>\n",
              "    </tr>\n",
              "  </tbody>\n",
              "</table>\n",
              "</div>\n",
              "    <div class=\"colab-df-buttons\">\n",
              "\n",
              "  <div class=\"colab-df-container\">\n",
              "    <button class=\"colab-df-convert\" onclick=\"convertToInteractive('df-c6b7c012-b80f-4c59-8717-2d7e205dad55')\"\n",
              "            title=\"Convert this dataframe to an interactive table.\"\n",
              "            style=\"display:none;\">\n",
              "\n",
              "  <svg xmlns=\"http://www.w3.org/2000/svg\" height=\"24px\" viewBox=\"0 -960 960 960\">\n",
              "    <path d=\"M120-120v-720h720v720H120Zm60-500h600v-160H180v160Zm220 220h160v-160H400v160Zm0 220h160v-160H400v160ZM180-400h160v-160H180v160Zm440 0h160v-160H620v160ZM180-180h160v-160H180v160Zm440 0h160v-160H620v160Z\"/>\n",
              "  </svg>\n",
              "    </button>\n",
              "\n",
              "  <style>\n",
              "    .colab-df-container {\n",
              "      display:flex;\n",
              "      gap: 12px;\n",
              "    }\n",
              "\n",
              "    .colab-df-convert {\n",
              "      background-color: #E8F0FE;\n",
              "      border: none;\n",
              "      border-radius: 50%;\n",
              "      cursor: pointer;\n",
              "      display: none;\n",
              "      fill: #1967D2;\n",
              "      height: 32px;\n",
              "      padding: 0 0 0 0;\n",
              "      width: 32px;\n",
              "    }\n",
              "\n",
              "    .colab-df-convert:hover {\n",
              "      background-color: #E2EBFA;\n",
              "      box-shadow: 0px 1px 2px rgba(60, 64, 67, 0.3), 0px 1px 3px 1px rgba(60, 64, 67, 0.15);\n",
              "      fill: #174EA6;\n",
              "    }\n",
              "\n",
              "    .colab-df-buttons div {\n",
              "      margin-bottom: 4px;\n",
              "    }\n",
              "\n",
              "    [theme=dark] .colab-df-convert {\n",
              "      background-color: #3B4455;\n",
              "      fill: #D2E3FC;\n",
              "    }\n",
              "\n",
              "    [theme=dark] .colab-df-convert:hover {\n",
              "      background-color: #434B5C;\n",
              "      box-shadow: 0px 1px 3px 1px rgba(0, 0, 0, 0.15);\n",
              "      filter: drop-shadow(0px 1px 2px rgba(0, 0, 0, 0.3));\n",
              "      fill: #FFFFFF;\n",
              "    }\n",
              "  </style>\n",
              "\n",
              "    <script>\n",
              "      const buttonEl =\n",
              "        document.querySelector('#df-c6b7c012-b80f-4c59-8717-2d7e205dad55 button.colab-df-convert');\n",
              "      buttonEl.style.display =\n",
              "        google.colab.kernel.accessAllowed ? 'block' : 'none';\n",
              "\n",
              "      async function convertToInteractive(key) {\n",
              "        const element = document.querySelector('#df-c6b7c012-b80f-4c59-8717-2d7e205dad55');\n",
              "        const dataTable =\n",
              "          await google.colab.kernel.invokeFunction('convertToInteractive',\n",
              "                                                    [key], {});\n",
              "        if (!dataTable) return;\n",
              "\n",
              "        const docLinkHtml = 'Like what you see? Visit the ' +\n",
              "          '<a target=\"_blank\" href=https://colab.research.google.com/notebooks/data_table.ipynb>data table notebook</a>'\n",
              "          + ' to learn more about interactive tables.';\n",
              "        element.innerHTML = '';\n",
              "        dataTable['output_type'] = 'display_data';\n",
              "        await google.colab.output.renderOutput(dataTable, element);\n",
              "        const docLink = document.createElement('div');\n",
              "        docLink.innerHTML = docLinkHtml;\n",
              "        element.appendChild(docLink);\n",
              "      }\n",
              "    </script>\n",
              "  </div>\n",
              "\n",
              "\n",
              "    <div id=\"df-8e591b28-9ea0-40aa-87df-7d6654090d4f\">\n",
              "      <button class=\"colab-df-quickchart\" onclick=\"quickchart('df-8e591b28-9ea0-40aa-87df-7d6654090d4f')\"\n",
              "                title=\"Suggest charts\"\n",
              "                style=\"display:none;\">\n",
              "\n",
              "<svg xmlns=\"http://www.w3.org/2000/svg\" height=\"24px\"viewBox=\"0 0 24 24\"\n",
              "     width=\"24px\">\n",
              "    <g>\n",
              "        <path d=\"M19 3H5c-1.1 0-2 .9-2 2v14c0 1.1.9 2 2 2h14c1.1 0 2-.9 2-2V5c0-1.1-.9-2-2-2zM9 17H7v-7h2v7zm4 0h-2V7h2v10zm4 0h-2v-4h2v4z\"/>\n",
              "    </g>\n",
              "</svg>\n",
              "      </button>\n",
              "\n",
              "<style>\n",
              "  .colab-df-quickchart {\n",
              "      --bg-color: #E8F0FE;\n",
              "      --fill-color: #1967D2;\n",
              "      --hover-bg-color: #E2EBFA;\n",
              "      --hover-fill-color: #174EA6;\n",
              "      --disabled-fill-color: #AAA;\n",
              "      --disabled-bg-color: #DDD;\n",
              "  }\n",
              "\n",
              "  [theme=dark] .colab-df-quickchart {\n",
              "      --bg-color: #3B4455;\n",
              "      --fill-color: #D2E3FC;\n",
              "      --hover-bg-color: #434B5C;\n",
              "      --hover-fill-color: #FFFFFF;\n",
              "      --disabled-bg-color: #3B4455;\n",
              "      --disabled-fill-color: #666;\n",
              "  }\n",
              "\n",
              "  .colab-df-quickchart {\n",
              "    background-color: var(--bg-color);\n",
              "    border: none;\n",
              "    border-radius: 50%;\n",
              "    cursor: pointer;\n",
              "    display: none;\n",
              "    fill: var(--fill-color);\n",
              "    height: 32px;\n",
              "    padding: 0;\n",
              "    width: 32px;\n",
              "  }\n",
              "\n",
              "  .colab-df-quickchart:hover {\n",
              "    background-color: var(--hover-bg-color);\n",
              "    box-shadow: 0 1px 2px rgba(60, 64, 67, 0.3), 0 1px 3px 1px rgba(60, 64, 67, 0.15);\n",
              "    fill: var(--button-hover-fill-color);\n",
              "  }\n",
              "\n",
              "  .colab-df-quickchart-complete:disabled,\n",
              "  .colab-df-quickchart-complete:disabled:hover {\n",
              "    background-color: var(--disabled-bg-color);\n",
              "    fill: var(--disabled-fill-color);\n",
              "    box-shadow: none;\n",
              "  }\n",
              "\n",
              "  .colab-df-spinner {\n",
              "    border: 2px solid var(--fill-color);\n",
              "    border-color: transparent;\n",
              "    border-bottom-color: var(--fill-color);\n",
              "    animation:\n",
              "      spin 1s steps(1) infinite;\n",
              "  }\n",
              "\n",
              "  @keyframes spin {\n",
              "    0% {\n",
              "      border-color: transparent;\n",
              "      border-bottom-color: var(--fill-color);\n",
              "      border-left-color: var(--fill-color);\n",
              "    }\n",
              "    20% {\n",
              "      border-color: transparent;\n",
              "      border-left-color: var(--fill-color);\n",
              "      border-top-color: var(--fill-color);\n",
              "    }\n",
              "    30% {\n",
              "      border-color: transparent;\n",
              "      border-left-color: var(--fill-color);\n",
              "      border-top-color: var(--fill-color);\n",
              "      border-right-color: var(--fill-color);\n",
              "    }\n",
              "    40% {\n",
              "      border-color: transparent;\n",
              "      border-right-color: var(--fill-color);\n",
              "      border-top-color: var(--fill-color);\n",
              "    }\n",
              "    60% {\n",
              "      border-color: transparent;\n",
              "      border-right-color: var(--fill-color);\n",
              "    }\n",
              "    80% {\n",
              "      border-color: transparent;\n",
              "      border-right-color: var(--fill-color);\n",
              "      border-bottom-color: var(--fill-color);\n",
              "    }\n",
              "    90% {\n",
              "      border-color: transparent;\n",
              "      border-bottom-color: var(--fill-color);\n",
              "    }\n",
              "  }\n",
              "</style>\n",
              "\n",
              "      <script>\n",
              "        async function quickchart(key) {\n",
              "          const quickchartButtonEl =\n",
              "            document.querySelector('#' + key + ' button');\n",
              "          quickchartButtonEl.disabled = true;  // To prevent multiple clicks.\n",
              "          quickchartButtonEl.classList.add('colab-df-spinner');\n",
              "          try {\n",
              "            const charts = await google.colab.kernel.invokeFunction(\n",
              "                'suggestCharts', [key], {});\n",
              "          } catch (error) {\n",
              "            console.error('Error during call to suggestCharts:', error);\n",
              "          }\n",
              "          quickchartButtonEl.classList.remove('colab-df-spinner');\n",
              "          quickchartButtonEl.classList.add('colab-df-quickchart-complete');\n",
              "        }\n",
              "        (() => {\n",
              "          let quickchartButtonEl =\n",
              "            document.querySelector('#df-8e591b28-9ea0-40aa-87df-7d6654090d4f button');\n",
              "          quickchartButtonEl.style.display =\n",
              "            google.colab.kernel.accessAllowed ? 'block' : 'none';\n",
              "        })();\n",
              "      </script>\n",
              "    </div>\n",
              "\n",
              "    </div>\n",
              "  </div>\n"
            ],
            "text/plain": [
              "              Country  GDP Inflation Std Dev  Consumer Inflation Std Dev\n",
              "43   Congo, Dem. Rep.            3304.200061                 3713.869296\n",
              "22            Bolivia            1484.620241                 1560.218038\n",
              "5              Angola             860.721890                  940.080760\n",
              "172              Peru            1027.222677                  846.577143\n",
              "8             Armenia             614.840279                  748.582865\n",
              "25             Brazil             640.516167                  630.748627\n",
              "224           Ukraine             857.000063                  614.332829\n",
              "17            Belarus             451.633194                  397.311573\n",
              "12         Azerbaijan             352.589593                  332.234084\n",
              "108        Kazakhstan             341.281322                  280.465299"
            ]
          },
          "metadata": {},
          "output_type": "display_data"
        }
      ],
      "source": [
        "# Sort by GDP Inflation Standard Deviation in descending order and display the top 10\n",
        "df_gdp_volatility_sorted = df_inflation_volatility.sort_values(by='GDP Inflation Std Dev', ascending=False)\n",
        "print(\"Top 10 Countries by GDP Inflation Volatility:\")\n",
        "display(df_gdp_volatility_sorted.head(10))\n",
        "\n",
        "# Sort by Consumer Inflation Standard Deviation in descending order and display the top 10\n",
        "df_consumer_volatility_sorted = df_inflation_volatility.sort_values(by='Consumer Inflation Std Dev', ascending=False)\n",
        "print(\"\\nTop 10 Countries by Consumer Inflation Volatility:\")\n",
        "display(df_consumer_volatility_sorted.head(10))"
      ]
    },
    {
      "cell_type": "markdown",
      "metadata": {
        "id": "8ec10b16"
      },
      "source": [
        "**Reasoning**:\n",
        "Briefly discuss potential external factors and limitations based on the analysis of inflation volatility.\n",
        "\n"
      ]
    },
    {
      "cell_type": "code",
      "execution_count": null,
      "metadata": {
        "colab": {
          "background_save": true
        },
        "id": "d99be51b",
        "outputId": "2db8fc10-958d-40db-b8ef-4ac5f4e88c98"
      },
      "outputs": [
        {
          "name": "stdout",
          "output_type": "stream",
          "text": [
            "Discussion on Potential External Factors and Limitations:\n",
            "------------------------------------------------------------\n",
            "The analysis of inflation volatility, measured by the standard deviation of GDP and Consumer Inflation, highlights countries like the Democratic Republic of Congo, Bolivia, Peru, and Angola as having experienced significant fluctuations.\n",
            "\n",
            "While our dataset is limited to inflation rates, several external factors not present in the data could significantly contribute to this observed volatility:\n",
            "1. Political Stability and Conflict: Countries experiencing political instability, civil unrest, or conflict often face disrupted supply chains, government spending fluctuations, and loss of confidence, all of which can lead to unpredictable and high inflation.\n",
            "2. Global Commodity Prices: Many developing economies are heavily reliant on exporting or importing commodities. Swings in global prices of key exports (e.g., oil, minerals) or imports (e.g., food, energy) can directly impact domestic price levels and exchange rates, leading to inflation volatility.\n",
            "3. Monetary Policy Effectiveness: The ability of a country's central bank to effectively implement monetary policy (like controlling interest rates and money supply) plays a crucial role in managing inflation. Countries with less independent or less effective monetary institutions may struggle to keep inflation stable.\n",
            "4. Exchange Rate Fluctuations: Volatile exchange rates can significantly impact inflation, especially in import-dependent economies. A sharp depreciation in the local currency makes imported goods more expensive, directly contributing to consumer price inflation.\n",
            "5. Natural Disasters and Climate Shocks: Events like droughts, floods, or earthquakes can disrupt agricultural production and supply chains, leading to sudden price increases for food and other essential goods.\n",
            "\n",
            "Limitations:\n",
            "Our analysis is limited by the scope of the dataset, which only includes inflation figures. To gain a deeper understanding of the drivers of volatility, access to data on these external factors (e.g., political risk indices, commodity price data, exchange rates, central bank policy rates) would be necessary for a comprehensive multivariate analysis.\n",
            "Additionally, the time period covered (1973-2014) might not capture more recent or historical events that influenced long-term volatility.\n",
            "------------------------------------------------------------\n"
          ]
        }
      ],
      "source": [
        "print(\"Discussion on Potential External Factors and Limitations:\")\n",
        "print(\"-\" * 60)\n",
        "print(\"The analysis of inflation volatility, measured by the standard deviation of GDP and Consumer Inflation, highlights countries like the Democratic Republic of Congo, Bolivia, Peru, and Angola as having experienced significant fluctuations.\")\n",
        "print(\"\\nWhile our dataset is limited to inflation rates, several external factors not present in the data could significantly contribute to this observed volatility:\")\n",
        "print(\"1. Political Stability and Conflict: Countries experiencing political instability, civil unrest, or conflict often face disrupted supply chains, government spending fluctuations, and loss of confidence, all of which can lead to unpredictable and high inflation.\")\n",
        "print(\"2. Global Commodity Prices: Many developing economies are heavily reliant on exporting or importing commodities. Swings in global prices of key exports (e.g., oil, minerals) or imports (e.g., food, energy) can directly impact domestic price levels and exchange rates, leading to inflation volatility.\")\n",
        "print(\"3. Monetary Policy Effectiveness: The ability of a country's central bank to effectively implement monetary policy (like controlling interest rates and money supply) plays a crucial role in managing inflation. Countries with less independent or less effective monetary institutions may struggle to keep inflation stable.\")\n",
        "print(\"4. Exchange Rate Fluctuations: Volatile exchange rates can significantly impact inflation, especially in import-dependent economies. A sharp depreciation in the local currency makes imported goods more expensive, directly contributing to consumer price inflation.\")\n",
        "print(\"5. Natural Disasters and Climate Shocks: Events like droughts, floods, or earthquakes can disrupt agricultural production and supply chains, leading to sudden price increases for food and other essential goods.\")\n",
        "print(\"\\nLimitations:\")\n",
        "print(\"Our analysis is limited by the scope of the dataset, which only includes inflation figures. To gain a deeper understanding of the drivers of volatility, access to data on these external factors (e.g., political risk indices, commodity price data, exchange rates, central bank policy rates) would be necessary for a comprehensive multivariate analysis.\")\n",
        "print(\"Additionally, the time period covered (1973-2014) might not capture more recent or historical events that influenced long-term volatility.\")\n",
        "print(\"-\" * 60)"
      ]
    },
    {
      "cell_type": "markdown",
      "metadata": {
        "id": "2524b074"
      },
      "source": [
        "## Summarize findings\n",
        "\n",
        "### Subtask:\n",
        "Present the key insights and observations from the analysis.\n"
      ]
    },
    {
      "cell_type": "markdown",
      "metadata": {
        "id": "7961cbb3"
      },
      "source": [
        "**Reasoning**:\n",
        "Summarize the key insights from the analysis, covering data cleaning, EDA, comparative analysis, data visualization, and creative analysis, and then finish the task.\n",
        "\n"
      ]
    },
    {
      "cell_type": "code",
      "execution_count": null,
      "metadata": {
        "colab": {
          "background_save": true
        },
        "id": "cb05f6a8",
        "outputId": "84e627f9-3f4f-4ac5-dcfb-c49a5b3c4cb7"
      },
      "outputs": [
        {
          "name": "stdout",
          "output_type": "stream",
          "text": [
            "## Key Insights and Observations from Inflation Analysis (1973-2014)\n",
            "\n",
            "### 1. Data Cleaning and Preprocessing Summary\n",
            "- The initial data cleaning step focused on identifying and handling missing values in both the GDP and Consumer Inflation datasets.\n",
            "- A key finding during this stage was the **absence of any missing values** in either `df_gdp` or `df_consumer` for the period between 1973 and 2014.\n",
            "- This meant no imputation or removal of data was necessary, ensuring the completeness of the datasets for the subsequent analysis.\n",
            "\n",
            "### 2. Exploratory Data Analysis (EDA) Summary\n",
            "- **Distribution of Inflation Rates:** Histograms revealed the distribution of both GDP and Consumer Inflation rates across all countries and years.\n",
            "- Both distributions were heavily skewed, with a large concentration of inflation rates near zero or in the low single digits, but also a long tail extending to very high positive values, indicating periods of hyperinflation in some countries.\n",
            "- **Trends Over Time:** Analysis of selected countries (United States, China, Germany, Japan, Brazil, India) showed diverse inflation trends.\n",
            "- Developed economies like the US, Germany, and Japan generally experienced lower and more stable inflation compared to emerging economies like Brazil and India.\n",
            "- Brazil, in particular, showed periods of extremely high volatility and inflation rates, especially in the 1980s and early 1990s.\n",
            "- **Relationship between GDP and Consumer Inflation:** A scatter plot visually demonstrated a **positive correlation** between GDP Inflation and Consumer Inflation.\n",
            "- This suggests that these two measures of inflation tend to move in the same direction, although the relationship might not be perfectly linear and can vary by country and time period.\n",
            "\n",
            "### 3. Comparative Analysis Summary\n",
            "- Comparing inflation trends across different countries highlighted significant disparities.\n",
            "- Countries like Japan consistently maintained very low inflation, indicative of a different economic environment compared to countries experiencing high and volatile inflation.\n",
            "- The analysis underscored that inflation experiences are highly country-specific and influenced by a multitude of local and global factors.\n",
            "- Comparing countries with different development levels and economic structures revealed distinct patterns in how inflation evolved over the analyzed period.\n",
            "\n",
            "### 4. Data Visualization Summary\n",
            "- Various plots were crucial in visualizing the findings:\n",
            "- **Histograms:** Clearly depicted the distribution of inflation rates, showing the prevalence of low inflation but also the existence of extreme high inflation events.\n",
            "- **Line Plots:** Effectively illustrated inflation trends over time for selected countries, allowing for easy comparison of their trajectories.\n",
            "- **Scatter Plot:** Provided a visual representation of the relationship between GDP and Consumer Inflation, confirming their positive correlation.\n",
            "- These visualizations made complex inflation patterns and relationships more accessible and understandable.\n",
            "\n",
            "### 5. Creative Analysis: Inflation Volatility and External Factors\n",
            "- **Inflation Volatility:** By calculating the standard deviation of inflation rates, we identified countries with the most volatile inflation.\n",
            "- Countries like the Democratic Republic of Congo, Bolivia, Peru, and Angola consistently appeared among the top countries with the highest volatility for both GDP and Consumer Inflation.\n",
            "- **Potential External Factors:** While our dataset is limited to inflation data, potential external factors that could explain this volatility were discussed, including political instability, global commodity price swings, monetary policy effectiveness, exchange rate fluctuations, and natural disasters.\n",
            "- **Limitations:** The analysis is limited by the lack of data on these external factors, preventing a direct quantitative assessment of their impact.\n",
            "- A more comprehensive analysis would require integrating data on these other economic and political indicators.\n"
          ]
        }
      ],
      "source": [
        "print(\"## Key Insights and Observations from Inflation Analysis (1973-2014)\")\n",
        "print(\"\\n### 1. Data Cleaning and Preprocessing Summary\")\n",
        "print(\"- The initial data cleaning step focused on identifying and handling missing values in both the GDP and Consumer Inflation datasets.\")\n",
        "print(\"- A key finding during this stage was the **absence of any missing values** in either `df_gdp` or `df_consumer` for the period between 1973 and 2014.\")\n",
        "print(\"- This meant no imputation or removal of data was necessary, ensuring the completeness of the datasets for the subsequent analysis.\")\n",
        "\n",
        "print(\"\\n### 2. Exploratory Data Analysis (EDA) Summary\")\n",
        "print(\"- **Distribution of Inflation Rates:** Histograms revealed the distribution of both GDP and Consumer Inflation rates across all countries and years.\")\n",
        "print(\"- Both distributions were heavily skewed, with a large concentration of inflation rates near zero or in the low single digits, but also a long tail extending to very high positive values, indicating periods of hyperinflation in some countries.\")\n",
        "print(\"- **Trends Over Time:** Analysis of selected countries (United States, China, Germany, Japan, Brazil, India) showed diverse inflation trends.\")\n",
        "print(\"- Developed economies like the US, Germany, and Japan generally experienced lower and more stable inflation compared to emerging economies like Brazil and India.\")\n",
        "print(\"- Brazil, in particular, showed periods of extremely high volatility and inflation rates, especially in the 1980s and early 1990s.\")\n",
        "print(\"- **Relationship between GDP and Consumer Inflation:** A scatter plot visually demonstrated a **positive correlation** between GDP Inflation and Consumer Inflation.\")\n",
        "print(\"- This suggests that these two measures of inflation tend to move in the same direction, although the relationship might not be perfectly linear and can vary by country and time period.\")\n",
        "\n",
        "print(\"\\n### 3. Comparative Analysis Summary\")\n",
        "print(\"- Comparing inflation trends across different countries highlighted significant disparities.\")\n",
        "print(\"- Countries like Japan consistently maintained very low inflation, indicative of a different economic environment compared to countries experiencing high and volatile inflation.\")\n",
        "print(\"- The analysis underscored that inflation experiences are highly country-specific and influenced by a multitude of local and global factors.\")\n",
        "print(\"- Comparing countries with different development levels and economic structures revealed distinct patterns in how inflation evolved over the analyzed period.\")\n",
        "\n",
        "print(\"\\n### 4. Data Visualization Summary\")\n",
        "print(\"- Various plots were crucial in visualizing the findings:\")\n",
        "print(\"- **Histograms:** Clearly depicted the distribution of inflation rates, showing the prevalence of low inflation but also the existence of extreme high inflation events.\")\n",
        "print(\"- **Line Plots:** Effectively illustrated inflation trends over time for selected countries, allowing for easy comparison of their trajectories.\")\n",
        "print(\"- **Scatter Plot:** Provided a visual representation of the relationship between GDP and Consumer Inflation, confirming their positive correlation.\")\n",
        "print(\"- These visualizations made complex inflation patterns and relationships more accessible and understandable.\")\n",
        "\n",
        "print(\"\\n### 5. Creative Analysis: Inflation Volatility and External Factors\")\n",
        "print(\"- **Inflation Volatility:** By calculating the standard deviation of inflation rates, we identified countries with the most volatile inflation.\")\n",
        "print(\"- Countries like the Democratic Republic of Congo, Bolivia, Peru, and Angola consistently appeared among the top countries with the highest volatility for both GDP and Consumer Inflation.\")\n",
        "print(\"- **Potential External Factors:** While our dataset is limited to inflation data, potential external factors that could explain this volatility were discussed, including political instability, global commodity price swings, monetary policy effectiveness, exchange rate fluctuations, and natural disasters.\")\n",
        "print(\"- **Limitations:** The analysis is limited by the lack of data on these external factors, preventing a direct quantitative assessment of their impact.\")\n",
        "print(\"- A more comprehensive analysis would require integrating data on these other economic and political indicators.\")"
      ]
    },
    {
      "cell_type": "markdown",
      "metadata": {
        "id": "8a354fde"
      },
      "source": [
        "## Summary:\n",
        "\n",
        "### Data Analysis Key Findings\n",
        "\n",
        "*   Neither the GDP nor the Consumer Price Index (CPI) inflation datasets contained any missing values for the period between 1973 and 2014.\n",
        "*   The distribution of both GDP and Consumer Inflation rates across all countries and years was heavily skewed, with a concentration near zero or in low single digits, but also a long tail indicating periods of very high inflation.\n",
        "*   Developed economies like the US, Germany, and Japan generally experienced lower and more stable inflation compared to emerging economies like Brazil and India. Brazil showed particularly high volatility.\n",
        "*   There is a positive correlation between GDP Inflation and Consumer Inflation, suggesting they tend to move in the same direction.\n",
        "*   Countries with the most volatile inflation (measured by standard deviation) included the Democratic Republic of Congo, Bolivia, Peru, and Angola.\n",
        "\n",
        "### Insights or Next Steps\n",
        "\n",
        "*   To understand the drivers of inflation volatility, future analysis should integrate data on potential external factors such as political stability, global commodity prices, and exchange rates.\n",
        "*   Further investigate the periods of high inflation in volatile countries to understand the specific economic and political events that contributed to these spikes.\n"
      ]
    },
    {
      "cell_type": "markdown",
      "metadata": {
        "id": "0f5c6a65"
      },
      "source": [
        "# Task\n",
        "Analyze the provided World Bank CPI and GDP data from 1973 to 2014, focusing on identifying countries with the lowest and highest inflation rates within distinct historical periods. Explain the methodology for selecting countries and dividing periods, and provide historical context for the observed inflation extremes in selected countries during each period. The data description is: `Data\n",
        "The data comes from The World Bank (CPI), The World Bank (GDP) and is collected from 1973 to 2014. There are some values missing from data so users of the data will have to guess what should be in the empty slots.\n",
        "\n",
        "The actual download happens via The World Bank's API (with csv as the requested format) (CPI), The World Bank's API (with csv as the requested format) (GDP).`"
      ]
    },
    {
      "cell_type": "markdown",
      "metadata": {
        "id": "733ed45b"
      },
      "source": [
        "## Define time periods\n",
        "\n",
        "### Subtask:\n",
        "Divide the 1973-2014 timeframe into several distinct periods.\n"
      ]
    },
    {
      "cell_type": "markdown",
      "metadata": {
        "id": "913256e9"
      },
      "source": [
        "**Reasoning**:\n",
        "Define the historical periods based on major global economic events within the 1973-2014 timeframe.\n",
        "\n"
      ]
    },
    {
      "cell_type": "code",
      "execution_count": null,
      "metadata": {
        "colab": {
          "background_save": true
        },
        "id": "d03534b9",
        "outputId": "6f6e8b54-e352-4137-f727-0b591ac356d5"
      },
      "outputs": [
        {
          "name": "stdout",
          "output_type": "stream",
          "text": [
            "Defined Historical Periods:\n",
            "1973-1980\n",
            "1981-1990\n",
            "1991-2000\n",
            "2001-2008\n",
            "2009-2014\n"
          ]
        }
      ],
      "source": [
        "# Define distinct historical periods based on major global economic or political shifts\n",
        "# Period 1: 1973-1980 (Oil Shocks and Stagflation)\n",
        "# Period 2: 1981-1990 (Disinflation and Debt Crisis)\n",
        "# Period 3: 1991-2000 (Globalization and Asian Financial Crisis)\n",
        "# Period 4: 2001-2008 (Dot-com Bubble Burst and Great Recession start)\n",
        "# Period 5: 2009-2014 (Post-Great Recession recovery and Eurozone crisis)\n",
        "\n",
        "historical_periods = [\n",
        "    (1973, 1980),\n",
        "    (1981, 1990),\n",
        "    (1991, 2000),\n",
        "    (2001, 2008),\n",
        "    (2009, 2014)\n",
        "]\n",
        "\n",
        "# Display the defined periods\n",
        "print(\"Defined Historical Periods:\")\n",
        "for start, end in historical_periods:\n",
        "    print(f\"{start}-{end}\")"
      ]
    },
    {
      "cell_type": "markdown",
      "metadata": {
        "id": "2538ba11"
      },
      "source": [
        "## Analyze inflation extremes per period\n",
        "\n",
        "### Subtask:\n",
        "For each period, identify the countries with the lowest and highest average/median inflation rates (for both GDP and Consumer Inflation).\n"
      ]
    },
    {
      "cell_type": "markdown",
      "metadata": {
        "id": "8d8d3a02"
      },
      "source": [
        "**Reasoning**:\n",
        "Iterate through each historical period, filter the dataframes, calculate the mean inflation per country for each period, and identify the countries with the lowest and highest mean inflation for both GDP and Consumer inflation.\n",
        "\n"
      ]
    },
    {
      "cell_type": "code",
      "execution_count": null,
      "metadata": {
        "colab": {
          "background_save": true
        },
        "id": "c8ee47b3",
        "outputId": "a144a963-78b5-4fa0-9dde-33b24d7d3da1"
      },
      "outputs": [
        {
          "name": "stdout",
          "output_type": "stream",
          "text": [
            "\n",
            "Analysis for the period: 1973-1980\n",
            "  Lowest Average GDP Inflation: Switzerland (4.62%)\n",
            "  Highest Average GDP Inflation: Chile (205.60%)\n",
            "  Lowest Average Consumer Inflation: Georgia (1.02%)\n",
            "  Highest Average Consumer Inflation: Chile (240.39%)\n",
            "\n",
            "Analysis for the period: 1981-1990\n",
            "  Lowest Average GDP Inflation: Equatorial Guinea (-4.25%)\n",
            "  Highest Average GDP Inflation: Bolivia (1380.15%)\n",
            "  Lowest Average Consumer Inflation: Turkmenistan (-5.09%)\n",
            "  Highest Average Consumer Inflation: Nicaragua (2438.91%)\n",
            "\n",
            "Analysis for the period: 1991-2000\n",
            "  Lowest Average GDP Inflation: Bahrain (0.63%)\n",
            "  Highest Average GDP Inflation: Congo, Dem. Rep. (3410.45%)\n",
            "  Lowest Average Consumer Inflation: Zimbabwe (-3.79%)\n",
            "  Highest Average Consumer Inflation: Congo, Dem. Rep. (3910.14%)\n",
            "\n",
            "Analysis for the period: 2001-2008\n",
            "  Lowest Average GDP Inflation: Libya (-0.28%)\n",
            "  Highest Average GDP Inflation: Congo, Dem. Rep. (59.62%)\n",
            "  Lowest Average Consumer Inflation: Hong Kong SAR, China (-1.38%)\n",
            "  Highest Average Consumer Inflation: Angola (64.23%)\n",
            "\n",
            "Analysis for the period: 2009-2014\n",
            "  Lowest Average GDP Inflation: Switzerland (-0.08%)\n",
            "  Highest Average GDP Inflation: Venezuela, RB (34.21%)\n",
            "  Lowest Average Consumer Inflation: Liechtenstein (-9.90%)\n",
            "  Highest Average Consumer Inflation: Belarus (34.34%)\n"
          ]
        }
      ],
      "source": [
        "for start, end in historical_periods:\n",
        "    print(f\"\\nAnalysis for the period: {start}-{end}\")\n",
        "\n",
        "    # Filter data for the current period\n",
        "    df_gdp_period = df_gdp[(df_gdp['Year'] >= start) & (df_gdp['Year'] <= end)]\n",
        "    df_consumer_period = df_consumer[(df_consumer['Year'] >= start) & (df_consumer['Year'] <= end)]\n",
        "\n",
        "    # Calculate mean inflation per country for the current period\n",
        "    df_gdp_mean = df_gdp_period.groupby('Country')['Inflation'].mean().reset_index()\n",
        "    df_consumer_mean = df_consumer_period.groupby('Country')['Inflation'].mean().reset_index()\n",
        "\n",
        "    # Find countries with lowest and highest mean GDP inflation\n",
        "    lowest_gdp_inflation_country = df_gdp_mean.loc[df_gdp_mean['Inflation'].idxmin()]\n",
        "    highest_gdp_inflation_country = df_gdp_mean.loc[df_gdp_mean['Inflation'].idxmax()]\n",
        "\n",
        "    print(f\"  Lowest Average GDP Inflation: {lowest_gdp_inflation_country['Country']} ({lowest_gdp_inflation_country['Inflation']:.2f}%)\")\n",
        "    print(f\"  Highest Average GDP Inflation: {highest_gdp_inflation_country['Country']} ({highest_gdp_inflation_country['Inflation']:.2f}%)\")\n",
        "\n",
        "    # Find countries with lowest and highest mean Consumer inflation\n",
        "    lowest_consumer_inflation_country = df_consumer_mean.loc[df_consumer_mean['Inflation'].idxmin()]\n",
        "    highest_consumer_inflation_country = df_consumer_mean.loc[df_consumer_mean['Inflation'].idxmax()]\n",
        "\n",
        "    print(f\"  Lowest Average Consumer Inflation: {lowest_consumer_inflation_country['Country']} ({lowest_consumer_inflation_country['Inflation']:.2f}%)\")\n",
        "    print(f\"  Highest Average Consumer Inflation: {highest_consumer_inflation_country['Country']} ({highest_consumer_inflation_country['Inflation']:.2f}%)\")"
      ]
    },
    {
      "cell_type": "markdown",
      "metadata": {
        "id": "2b21d4cb"
      },
      "source": [
        "## Historical contextualization\n",
        "\n",
        "### Subtask:\n",
        "For the identified countries with extreme inflation rates in each period, discuss or research potential historical, economic, or political events that could explain these levels of inflation. This step would be qualitative and require external knowledge or research based on the identified countries and timeframes.\n"
      ]
    },
    {
      "cell_type": "markdown",
      "metadata": {
        "id": "3371c697"
      },
      "source": [
        "**Reasoning**:\n",
        "For each historical period, identify the countries with the lowest and highest average GDP and Consumer Inflation rates, then conduct external research to find potential historical, economic, or political events that could explain these extreme inflation levels, and finally print the findings for each country and period.\n",
        "\n"
      ]
    },
    {
      "cell_type": "code",
      "execution_count": null,
      "metadata": {
        "colab": {
          "background_save": true
        },
        "id": "bd8db480",
        "outputId": "562b1be6-ba3a-4e6c-c949-e328bc2cf9e7"
      },
      "outputs": [
        {
          "name": "stdout",
          "output_type": "stream",
          "text": [
            "\n",
            "Analyzing period: 1973-1980\n",
            "\n",
            "Analyzing period: 1981-1990\n",
            "\n",
            "Analyzing period: 1991-2000\n",
            "\n",
            "Analyzing period: 2001-2008\n",
            "\n",
            "Analyzing period: 2009-2014\n",
            "\n",
            "--- Historical Context for Extreme Inflation Rates ---\n",
            "\n",
            "Period: 1973-1980\n",
            "  Lowest Average GDP Inflation: Switzerland (4.62%)\n",
            "    Context: Switzerland maintained monetary stability and a strong currency during a period of global oil shocks and stagflation due to prudent fiscal and monetary policies and a diversified economy.\n",
            "  Highest Average GDP Inflation: Chile (205.60%)\n",
            "    Context: Chile experienced hyperinflation following significant political and economic changes, including the 1973 coup and subsequent economic reforms.\n",
            "  Lowest Average Consumer Inflation: Georgia (1.02%)\n",
            "    Context: As part of the Soviet Union during this period, inflation figures might reflect the centrally planned economy and administered prices rather than market-driven inflation.\n",
            "  Highest Average Consumer Inflation: Chile (240.39%)\n",
            "    Context: Similar to GDP inflation, political upheaval and economic restructuring led to very high consumer price inflation.\n",
            "\n",
            "Period: 1981-1990\n",
            "  Lowest Average GDP Inflation: Equatorial Guinea (-4.25%)\n",
            "    Context: Data might be limited or reflect specific economic conditions not captured by simple averages. Further research is needed for a definitive explanation.\n",
            "  Highest Average GDP Inflation: Bolivia (1380.15%)\n",
            "    Context: Bolivia faced severe hyperinflation in the mid-1980s due to a combination of economic mismanagement, debt crisis, and political instability.\n",
            "  Lowest Average Consumer Inflation: Turkmenistan (-5.09%)\n",
            "    Context: Similar to Georgia, as a Soviet republic, inflation would have been heavily controlled and not reflective of market forces.\n",
            "  Highest Average Consumer Inflation: Nicaragua (2438.91%)\n",
            "    Context: Nicaragua experienced extreme hyperinflation during this decade, heavily influenced by civil conflict, economic sanctions, and fiscal imbalances.\n",
            "\n",
            "Period: 1991-2000\n",
            "  Lowest Average GDP Inflation: Bahrain (0.63%)\n",
            "    Context: Bahrain, a Gulf nation, likely benefited from stable oil revenues and pegging its currency, contributing to low inflation during this period.\n",
            "  Highest Average GDP Inflation: Congo, Dem. Rep. (3410.45%)\n",
            "    Context: The Democratic Republic of Congo (formerly Zaire) suffered from extreme hyperinflation driven by political instability, conflict, and economic collapse.\n",
            "  Lowest Average Consumer Inflation: Zimbabwe (-3.79%)\n",
            "    Context: This seems counterintuitive given later hyperinflation. Data anomalies or specific short-term factors within this decade might be at play. Further investigation is needed.\n",
            "  Highest Average Consumer Inflation: Congo, Dem. Rep. (3910.14%)\n",
            "    Context: As with GDP inflation, severe political instability and conflict were the primary drivers of hyperinflation in the Democratic Republic of Congo.\n",
            "\n",
            "Period: 2001-2008\n",
            "  Lowest Average GDP Inflation: Libya (-0.28%)\n",
            "    Context: Libya's economy is heavily reliant on oil exports. Stable oil prices during parts of this period and state control could have influenced inflation, but political factors also played a role.\n",
            "  Highest Average GDP Inflation: Congo, Dem. Rep. (59.62%)\n",
            "    Context: Continued political instability and conflict contributed to persistent high inflation in the Democratic Republic of Congo.\n",
            "  Lowest Average Consumer Inflation: Hong Kong SAR, China (-1.38%)\n",
            "    Context: Hong Kong's linked exchange rate system and open economy, coupled with deflationary pressures following the Asian Financial Crisis and SARS outbreak, contributed to low inflation.\n",
            "  Highest Average Consumer Inflation: Angola (64.23%)\n",
            "    Context: Angola, emerging from a long civil war, faced high inflation driven by post-conflict reconstruction challenges, oil revenue management issues, and structural economic problems.\n",
            "\n",
            "Period: 2009-2014\n",
            "  Lowest Average GDP Inflation: Switzerland (-0.08%)\n",
            "    Context: Switzerland continued its policy of monetary stability and currency strength, acting as a safe haven during the post-Great Recession period and Eurozone crisis, keeping inflation low.\n",
            "  Highest Average GDP Inflation: Venezuela, RB (34.21%)\n",
            "    Context: Venezuela began experiencing high and accelerating inflation during this period due to a combination of economic policies, currency controls, and declining oil prices impacting its oil-dependent economy.\n",
            "  Lowest Average Consumer Inflation: Liechtenstein (-9.90%)\n",
            "    Context: Liechtenstein's close economic ties with Switzerland and use of the Swiss Franc, a strong and stable currency, resulted in very low inflation.\n",
            "  Highest Average Consumer Inflation: Belarus (34.34%)\n",
            "    Context: Belarus experienced significant inflation, particularly in the early part of this period, linked to devaluation of its currency, expansionary monetary policy, and economic challenges.\n"
          ]
        }
      ],
      "source": [
        "# Define historical periods and initialize a dictionary to store extreme countries per period\n",
        "historical_periods = {\n",
        "    \"1973-1980\": (1973, 1980),\n",
        "    \"1981-1990\": (1981, 1990),\n",
        "    \"1991-2000\": (1991, 2000),\n",
        "    \"2001-2008\": (2001, 2008),\n",
        "    \"2009-2014\": (2009, 2014)\n",
        "}\n",
        "\n",
        "extreme_inflation_countries = {}\n",
        "\n",
        "for period_name, (start_year, end_year) in historical_periods.items():\n",
        "    print(f\"\\nAnalyzing period: {period_name}\")\n",
        "\n",
        "    # Filter data for the current period\n",
        "    df_gdp_period = df_gdp[(df_gdp['Year'] >= start_year) & (df_gdp['Year'] <= end_year)].copy()\n",
        "    df_consumer_period = df_consumer[(df_consumer['Year'] >= start_year) & (df_consumer['Year'] <= end_year)].copy()\n",
        "\n",
        "    # Calculate mean inflation per country for the current period\n",
        "    df_gdp_mean = df_gdp_period.groupby('Country')['Inflation'].mean().reset_index()\n",
        "    df_consumer_mean = df_consumer_period.groupby('Country')['Inflation'].mean().reset_index()\n",
        "\n",
        "    # Find countries with lowest and highest mean GDP inflation\n",
        "    lowest_gdp_inflation_country = df_gdp_mean.loc[df_gdp_mean['Inflation'].idxmin()]\n",
        "    highest_gdp_inflation_country = df_gdp_mean.loc[df_gdp_mean['Inflation'].idxmax()]\n",
        "\n",
        "    # Find countries with lowest and highest mean Consumer inflation\n",
        "    lowest_consumer_inflation_country = df_consumer_mean.loc[df_consumer_mean['Inflation'].idxmin()]\n",
        "    highest_consumer_inflation_country = df_consumer_mean.loc[df_consumer_mean['Inflation'].idxmax()]\n",
        "\n",
        "    extreme_inflation_countries[period_name] = {\n",
        "        'lowest_gdp': lowest_gdp_inflation_country,\n",
        "        'highest_gdp': highest_gdp_inflation_country,\n",
        "        'lowest_consumer': lowest_consumer_inflation_country,\n",
        "        'highest_consumer': highest_consumer_inflation_country\n",
        "    }\n",
        "\n",
        "# --- External Research and Discussion (Qualitative Analysis) ---\n",
        "# This part is based on general historical/economic knowledge for the identified countries and periods.\n",
        "# In a real-world scenario, this would involve dedicated research using external resources.\n",
        "\n",
        "print(\"\\n--- Historical Context for Extreme Inflation Rates ---\")\n",
        "\n",
        "for period_name, extremes in extreme_inflation_countries.items():\n",
        "    print(f\"\\nPeriod: {period_name}\")\n",
        "\n",
        "    # Discussion for Lowest GDP Inflation\n",
        "    country = extremes['lowest_gdp']['Country']\n",
        "    inflation_rate = extremes['lowest_gdp']['Inflation']\n",
        "    print(f\"  Lowest Average GDP Inflation: {country} ({inflation_rate:.2f}%)\")\n",
        "    if country == 'Switzerland' and period_name == '1973-1980':\n",
        "        print(\"    Context: Switzerland maintained monetary stability and a strong currency during a period of global oil shocks and stagflation due to prudent fiscal and monetary policies and a diversified economy.\")\n",
        "    elif country == 'Equatorial Guinea' and period_name == '1981-1990':\n",
        "         print(\"    Context: Data might be limited or reflect specific economic conditions not captured by simple averages. Further research is needed for a definitive explanation.\")\n",
        "    elif country == 'Bahrain' and period_name == '1991-2000':\n",
        "         print(\"    Context: Bahrain, a Gulf nation, likely benefited from stable oil revenues and pegging its currency, contributing to low inflation during this period.\")\n",
        "    elif country == 'Libya' and period_name == '2001-2008':\n",
        "         print(\"    Context: Libya's economy is heavily reliant on oil exports. Stable oil prices during parts of this period and state control could have influenced inflation, but political factors also played a role.\")\n",
        "    elif country == 'Switzerland' and period_name == '2009-2014':\n",
        "        print(\"    Context: Switzerland continued its policy of monetary stability and currency strength, acting as a safe haven during the post-Great Recession period and Eurozone crisis, keeping inflation low.\")\n",
        "    else:\n",
        "        print(\"    Context: Specific historical context for this country and period requires further research.\")\n",
        "\n",
        "\n",
        "    # Discussion for Highest GDP Inflation\n",
        "    country = extremes['highest_gdp']['Country']\n",
        "    inflation_rate = extremes['highest_gdp']['Inflation']\n",
        "    print(f\"  Highest Average GDP Inflation: {country} ({inflation_rate:.2f}%)\")\n",
        "    if country == 'Chile' and period_name == '1973-1980':\n",
        "        print(\"    Context: Chile experienced hyperinflation following significant political and economic changes, including the 1973 coup and subsequent economic reforms.\")\n",
        "    elif country == 'Bolivia' and period_name == '1981-1990':\n",
        "        print(\"    Context: Bolivia faced severe hyperinflation in the mid-1980s due to a combination of economic mismanagement, debt crisis, and political instability.\")\n",
        "    elif country == 'Congo, Dem. Rep.' and period_name == '1991-2000':\n",
        "        print(\"    Context: The Democratic Republic of Congo (formerly Zaire) suffered from extreme hyperinflation driven by political instability, conflict, and economic collapse.\")\n",
        "    elif country == 'Congo, Dem. Rep.' and period_name == '2001-2008':\n",
        "        print(\"    Context: Continued political instability and conflict contributed to persistent high inflation in the Democratic Republic of Congo.\")\n",
        "    elif country == 'Venezuela, RB' and period_name == '2009-2014':\n",
        "        print(\"    Context: Venezuela began experiencing high and accelerating inflation during this period due to a combination of economic policies, currency controls, and declining oil prices impacting its oil-dependent economy.\")\n",
        "    else:\n",
        "        print(\"    Context: Specific historical context for this country and period requires further research.\")\n",
        "\n",
        "\n",
        "    # Discussion for Lowest Consumer Inflation\n",
        "    country = extremes['lowest_consumer']['Country']\n",
        "    inflation_rate = extremes['lowest_consumer']['Inflation']\n",
        "    print(f\"  Lowest Average Consumer Inflation: {country} ({inflation_rate:.2f}%)\")\n",
        "    if country == 'Georgia' and period_name == '1973-1980':\n",
        "        print(\"    Context: As part of the Soviet Union during this period, inflation figures might reflect the centrally planned economy and administered prices rather than market-driven inflation.\")\n",
        "    elif country == 'Turkmenistan' and period_name == '1981-1990':\n",
        "        print(\"    Context: Similar to Georgia, as a Soviet republic, inflation would have been heavily controlled and not reflective of market forces.\")\n",
        "    elif country == 'Zimbabwe' and period_name == '1991-2000':\n",
        "         print(\"    Context: This seems counterintuitive given later hyperinflation. Data anomalies or specific short-term factors within this decade might be at play. Further investigation is needed.\")\n",
        "    elif country == 'Hong Kong SAR, China' and period_name == '2001-2008':\n",
        "        print(\"    Context: Hong Kong's linked exchange rate system and open economy, coupled with deflationary pressures following the Asian Financial Crisis and SARS outbreak, contributed to low inflation.\")\n",
        "    elif country == 'Liechtenstein' and period_name == '2009-2014':\n",
        "        print(\"    Context: Liechtenstein's close economic ties with Switzerland and use of the Swiss Franc, a strong and stable currency, resulted in very low inflation.\")\n",
        "    else:\n",
        "        print(\"    Context: Specific historical context for this country and period requires further research.\")\n",
        "\n",
        "    # Discussion for Highest Consumer Inflation\n",
        "    country = extremes['highest_consumer']['Country']\n",
        "    inflation_rate = extremes['highest_consumer']['Inflation']\n",
        "    print(f\"  Highest Average Consumer Inflation: {country} ({inflation_rate:.2f}%)\")\n",
        "    if country == 'Chile' and period_name == '1973-1980':\n",
        "        print(\"    Context: Similar to GDP inflation, political upheaval and economic restructuring led to very high consumer price inflation.\")\n",
        "    elif country == 'Nicaragua' and period_name == '1981-1990':\n",
        "        print(\"    Context: Nicaragua experienced extreme hyperinflation during this decade, heavily influenced by civil conflict, economic sanctions, and fiscal imbalances.\")\n",
        "    elif country == 'Congo, Dem. Rep.' and period_name == '1991-2000':\n",
        "        print(\"    Context: As with GDP inflation, severe political instability and conflict were the primary drivers of hyperinflation in the Democratic Republic of Congo.\")\n",
        "    elif country == 'Angola' and period_name == '2001-2008':\n",
        "        print(\"    Context: Angola, emerging from a long civil war, faced high inflation driven by post-conflict reconstruction challenges, oil revenue management issues, and structural economic problems.\")\n",
        "    elif country == 'Belarus' and period_name == '2009-2014':\n",
        "        print(\"    Context: Belarus experienced significant inflation, particularly in the early part of this period, linked to devaluation of its currency, expansionary monetary policy, and economic challenges.\")\n",
        "    else:\n",
        "        print(\"    Context: Specific historical context for this country and period requires further research.\")"
      ]
    },
    {
      "cell_type": "markdown",
      "metadata": {
        "id": "62b574da"
      },
      "source": [
        "## Summarize findings\n",
        "\n",
        "### Subtask:\n",
        "Present the key insights from the period-based analysis of inflation extremes and the potential historical explanations.\n"
      ]
    },
    {
      "cell_type": "markdown",
      "metadata": {
        "id": "be0c3cc0"
      },
      "source": [
        "**Reasoning**:\n",
        "Summarize the key insights from the period-based analysis of inflation extremes and the potential historical explanations based on the `extreme_inflation_countries` dictionary.\n",
        "\n"
      ]
    },
    {
      "cell_type": "code",
      "execution_count": null,
      "metadata": {
        "colab": {
          "background_save": true
        },
        "id": "76069fd1",
        "outputId": "7ee9273d-9edb-4200-db34-3f0a782f14aa"
      },
      "outputs": [
        {
          "name": "stdout",
          "output_type": "stream",
          "text": [
            "## Summary of Inflation Extremes Across Historical Periods (1973-2014)\n",
            "\n",
            "### Period: 1973-1980\n",
            "- Lowest Average GDP Inflation: Switzerland (4.62%)\n",
            "- Highest Average GDP Inflation: Chile (205.60%)\n",
            "- Lowest Average Consumer Inflation: Georgia (1.02%)\n",
            "- Highest Average Consumer Inflation: Chile (240.39%)\n",
            "\n",
            "### Period: 1981-1990\n",
            "- Lowest Average GDP Inflation: Equatorial Guinea (-4.25%)\n",
            "- Highest Average GDP Inflation: Bolivia (1380.15%)\n",
            "- Lowest Average Consumer Inflation: Turkmenistan (-5.09%)\n",
            "- Highest Average Consumer Inflation: Nicaragua (2438.91%)\n",
            "\n",
            "### Period: 1991-2000\n",
            "- Lowest Average GDP Inflation: Bahrain (0.63%)\n",
            "- Highest Average GDP Inflation: Congo, Dem. Rep. (3410.45%)\n",
            "- Lowest Average Consumer Inflation: Zimbabwe (-3.79%)\n",
            "- Highest Average Consumer Inflation: Congo, Dem. Rep. (3910.14%)\n",
            "\n",
            "### Period: 2001-2008\n",
            "- Lowest Average GDP Inflation: Libya (-0.28%)\n",
            "- Highest Average GDP Inflation: Congo, Dem. Rep. (59.62%)\n",
            "- Lowest Average Consumer Inflation: Hong Kong SAR, China (-1.38%)\n",
            "- Highest Average Consumer Inflation: Angola (64.23%)\n",
            "\n",
            "### Period: 2009-2014\n",
            "- Lowest Average GDP Inflation: Switzerland (-0.08%)\n",
            "- Highest Average GDP Inflation: Venezuela, RB (34.21%)\n",
            "- Lowest Average Consumer Inflation: Liechtenstein (-9.90%)\n",
            "- Highest Average Consumer Inflation: Belarus (34.34%)\n",
            "\n",
            "### General Patterns and Historical Context\n",
            "Across the historical periods from 1973 to 2014, several general patterns regarding inflation extremes can be observed:\n",
            "- **High Inflation:** Periods of extremely high inflation (often hyperinflation) were frequently associated with countries experiencing significant political instability, civil conflict, economic mismanagement, and debt crises. Examples include Chile in the 1970s, Bolivia and Nicaragua in the 1980s, and the Democratic Republic of Congo in the 1990s and early 2000s. These events often led to disrupted production, supply chain issues, loss of confidence in the currency, and unsustainable fiscal policies.\n",
            "- **Low Inflation:** Countries maintaining consistently low inflation often exhibited strong monetary policy frameworks, political stability, and diversified or resource-rich economies that provided a degree of insulation from global price shocks. Switzerland and Liechtenstein, with their close ties and use of the stable Swiss Franc, are prime examples of countries with persistently low inflation across multiple periods.\n",
            "- **Impact of Global Events:** Major global economic shifts, such as the oil shocks of the 1970s, the debt crisis of the 1980s, and the post-Great Recession period, influenced inflation patterns globally, but their impact varied significantly depending on a country's economic structure and policy responses.\n",
            "- **Divergence in Developing vs. Developed Economies:** There was a clear divergence in inflation experiences between many developing economies, which were more susceptible to volatility and high inflation driven by internal and external shocks, and developed economies, which generally maintained more stable and lower inflation.\n",
            "\n",
            "### Surprising Findings or Contradictions\n",
            "- A seemingly surprising finding was Zimbabwe appearing with the lowest average consumer inflation in the 1991-2000 period.\n",
            "- This contradicts Zimbabwe's later experience with hyperinflation (which falls outside the 1973-2014 range for this specific period's analysis but is well-known).\n",
            "- This could potentially be explained by data anomalies, specific short-term economic policies or conditions within that particular decade that temporarily suppressed consumer price increases relative to other countries experiencing deflation or very low inflation, or simply the average masking significant within-period volatility.\n",
            "- Further investigation into Zimbabwe's specific economic history during 1991-2000 would be required to fully understand this outlier finding.\n"
          ]
        }
      ],
      "source": [
        "print(\"## Summary of Inflation Extremes Across Historical Periods (1973-2014)\")\n",
        "\n",
        "for period_name, extremes in extreme_inflation_countries.items():\n",
        "    print(f\"\\n### Period: {period_name}\")\n",
        "\n",
        "    # Print GDP Inflation Extremes\n",
        "    gdp_lowest_country = extremes['lowest_gdp']['Country']\n",
        "    gdp_lowest_inflation = extremes['lowest_gdp']['Inflation']\n",
        "    gdp_highest_country = extremes['highest_gdp']['Country']\n",
        "    gdp_highest_inflation = extremes['highest_gdp']['Inflation']\n",
        "    print(f\"- Lowest Average GDP Inflation: {gdp_lowest_country} ({gdp_lowest_inflation:.2f}%)\")\n",
        "    print(f\"- Highest Average GDP Inflation: {gdp_highest_country} ({gdp_highest_inflation:.2f}%)\")\n",
        "\n",
        "    # Print Consumer Inflation Extremes\n",
        "    consumer_lowest_country = extremes['lowest_consumer']['Country']\n",
        "    consumer_lowest_inflation = extremes['lowest_consumer']['Inflation']\n",
        "    consumer_highest_country = extremes['highest_consumer']['Country']\n",
        "    consumer_highest_inflation = extremes['highest_consumer']['Inflation']\n",
        "    print(f\"- Lowest Average Consumer Inflation: {consumer_lowest_country} ({consumer_lowest_inflation:.2f}%)\")\n",
        "    print(f\"- Highest Average Consumer Inflation: {consumer_highest_country} ({consumer_highest_inflation:.2f}%)\")\n",
        "\n",
        "print(\"\\n### General Patterns and Historical Context\")\n",
        "print(\"Across the historical periods from 1973 to 2014, several general patterns regarding inflation extremes can be observed:\")\n",
        "print(\"- **High Inflation:** Periods of extremely high inflation (often hyperinflation) were frequently associated with countries experiencing significant political instability, civil conflict, economic mismanagement, and debt crises. Examples include Chile in the 1970s, Bolivia and Nicaragua in the 1980s, and the Democratic Republic of Congo in the 1990s and early 2000s. These events often led to disrupted production, supply chain issues, loss of confidence in the currency, and unsustainable fiscal policies.\")\n",
        "print(\"- **Low Inflation:** Countries maintaining consistently low inflation often exhibited strong monetary policy frameworks, political stability, and diversified or resource-rich economies that provided a degree of insulation from global price shocks. Switzerland and Liechtenstein, with their close ties and use of the stable Swiss Franc, are prime examples of countries with persistently low inflation across multiple periods.\")\n",
        "print(\"- **Impact of Global Events:** Major global economic shifts, such as the oil shocks of the 1970s, the debt crisis of the 1980s, and the post-Great Recession period, influenced inflation patterns globally, but their impact varied significantly depending on a country's economic structure and policy responses.\")\n",
        "print(\"- **Divergence in Developing vs. Developed Economies:** There was a clear divergence in inflation experiences between many developing economies, which were more susceptible to volatility and high inflation driven by internal and external shocks, and developed economies, which generally maintained more stable and lower inflation.\")\n",
        "\n",
        "print(\"\\n### Surprising Findings or Contradictions\")\n",
        "print(\"- A seemingly surprising finding was Zimbabwe appearing with the lowest average consumer inflation in the 1991-2000 period.\")\n",
        "print(\"- This contradicts Zimbabwe's later experience with hyperinflation (which falls outside the 1973-2014 range for this specific period's analysis but is well-known).\")\n",
        "print(\"- This could potentially be explained by data anomalies, specific short-term economic policies or conditions within that particular decade that temporarily suppressed consumer price increases relative to other countries experiencing deflation or very low inflation, or simply the average masking significant within-period volatility.\")\n",
        "print(\"- Further investigation into Zimbabwe's specific economic history during 1991-2000 would be required to fully understand this outlier finding.\")"
      ]
    },
    {
      "cell_type": "markdown",
      "metadata": {
        "id": "00aad46a"
      },
      "source": [
        "## Summary:\n",
        "\n",
        "### Data Analysis Key Findings\n",
        "\n",
        "*   The analysis identified the countries with the lowest and highest average GDP and Consumer inflation for five historical periods: 1973-1980, 1981-1990, 1991-2000, 2001-2008, and 2009-2014.\n",
        "*   Countries with extremely high inflation were frequently associated with significant political instability, civil conflict, economic mismanagement, and debt crises (e.g., Chile in the 1970s, Bolivia and Nicaragua in the 1980s, and the Democratic Republic of Congo in the 1990s and early 2000s).\n",
        "*   Countries maintaining consistently low inflation often exhibited strong monetary policy frameworks and political stability (e.g., Switzerland and Liechtenstein across multiple periods).\n",
        "*   A surprising finding was Zimbabwe appearing with the lowest average consumer inflation in the 1991-2000 period, which contrasts with its later hyperinflationary experience.\n",
        "\n",
        "### Insights or Next Steps\n",
        "\n",
        "*   Further investigation into the specific economic conditions and data for countries with surprising findings, such as Zimbabwe in 1991-2000, is needed to understand potential anomalies or short-term factors.\n",
        "*   A deeper dive into the policy responses of countries that maintained low inflation during periods of global economic turbulence could provide valuable lessons for inflation management.\n"
      ]
    },
    {
      "cell_type": "markdown",
      "metadata": {
        "id": "d6671620"
      },
      "source": [
        "# Tâche\n",
        "Réaliser une analyse créative et approfondie des données d'inflation de l'IPC et du PIB de la Banque Mondiale fournies de 1973 à 2014, comprenant le nettoyage des données, l'analyse exploratoire des données, l'analyse comparative et la visualisation des données. Expliquer chaque étape avec des commentaires et des titres. Les données sont accessibles via l'API de la Banque Mondiale au format CSV pour l'IPC et le PIB."
      ]
    },
    {
      "cell_type": "markdown",
      "metadata": {
        "id": "0b15cf33"
      },
      "source": [
        "## Nettoyage et prétraitement des données\n",
        "\n",
        "### Sous-tâche :\n",
        "Traiter les valeurs manquantes dans les deux dataframes (`df_gdp` et `df_consumer`). Cela peut impliquer une imputation ou une suppression de lignes/colonnes, en fonction de l'étendue des valeurs manquantes."
      ]
    },
    {
      "cell_type": "markdown",
      "metadata": {
        "id": "11afeaf0"
      },
      "source": [
        "**Raisonnement** :\n",
        "Vérifier les valeurs manquantes dans les deux dataframes et afficher la somme des valeurs manquantes par colonne."
      ]
    },
    {
      "cell_type": "markdown",
      "metadata": {
        "id": "c03c1886"
      },
      "source": [
        "## Analyse exploratoire des données (eda)\n",
        "\n",
        "### Sous-tâche :\n",
        "Analyser la distribution des taux d'inflation dans les deux jeux de données."
      ]
    },
    {
      "cell_type": "markdown",
      "metadata": {
        "id": "e01a4197"
      },
      "source": [
        "**Raisonnement** :\n",
        "Générer des histogrammes pour la colonne 'Inflation' dans les deux dataframes afin de visualiser leurs distributions."
      ]
    },
    {
      "cell_type": "markdown",
      "metadata": {
        "id": "d1ef8d8d"
      },
      "source": [
        "## Analyse exploratoire des données (eda)\n",
        "\n",
        "### Sous-tâche :\n",
        "Explorer les tendances de l'inflation au fil du temps, en se concentrant peut-être sur des pays ou des régions spécifiques."
      ]
    },
    {
      "cell_type": "markdown",
      "metadata": {
        "id": "e218d324"
      },
      "source": [
        "**Raisonnement** :\n",
        "Filtrer les dataframes pour les pays sélectionnés, grouper par année et par pays, calculer l'inflation moyenne et préparer les données pour le traçage."
      ]
    },
    {
      "cell_type": "markdown",
      "metadata": {
        "id": "77252f97"
      },
      "source": [
        "**Raisonnement** :\n",
        "Tracer les données d'inflation agrégées pour les pays sélectionnés, en distinguant l'inflation du PIB et l'inflation de la consommation et en utilisant différentes couleurs pour les pays."
      ]
    },
    {
      "cell_type": "markdown",
      "metadata": {
        "id": "e8165493"
      },
      "source": [
        "## Analyse exploratoire des données (eda)\n",
        "\n",
        "### Sous-tâche :\n",
        "Étudier la relation entre l'inflation du PIB et l'inflation de la consommation."
      ]
    },
    {
      "cell_type": "markdown",
      "metadata": {
        "id": "b8eb2e07"
      },
      "source": [
        "**Raisonnement** :\n",
        "Fusionner les deux dataframes et renommer les colonnes pour plus de clarté selon les instructions."
      ]
    },
    {
      "cell_type": "markdown",
      "metadata": {
        "id": "11f47ca9"
      },
      "source": [
        "**Raisonnement** :\n",
        "Créer un nuage de points pour visualiser la relation entre l'inflation du PIB et l'inflation de la consommation avec des étiquettes et un titre appropriés."
      ]
    },
    {
      "cell_type": "markdown",
      "metadata": {
        "id": "39b21ca8"
      },
      "source": [
        "## Analyse comparative\n",
        "\n",
        "### Sous-tâche :\n",
        "Comparer les tendances de l'inflation entre différents pays ou groupes de pays."
      ]
    },
    {
      "cell_type": "markdown",
      "metadata": {
        "id": "f3129091"
      },
      "source": [
        "**Raisonnement** :\n",
        "Filtrer les dataframes df_gdp et df_consumer pour n'inclure que les données des pays/groupes nouvellement sélectionnés et de la période spécifiée (1973-2014). Agréger les données filtrées pour l'inflation du PIB et de la consommation par pays/groupe et par année, en calculant le taux d'inflation moyen pour chacun."
      ]
    },
    {
      "cell_type": "markdown",
      "metadata": {
        "id": "d9ce7c35"
      },
      "source": [
        "**Raisonnement** :\n",
        "Créer des graphiques linéaires visualisant les tendances de l'inflation du PIB et de la consommation au fil du temps pour les pays/groupes nouvellement sélectionnés. Assurer un étiquetage, des titres et des légendes clairs pour distinguer les pays/groupes et les types d'inflation. Analyser et comparer les tendances observées entre les différents pays/groupes, en notant les similitudes, les différences et les modèles intéressants."
      ]
    },
    {
      "cell_type": "markdown",
      "metadata": {
        "id": "92dc31a3"
      },
      "source": [
        "## Visualisation des données\n",
        "\n",
        "### Sous-tâche :\n",
        "Créer divers tracés pour visualiser les résultats de l'EDA et de l'analyse comparative, tels que des graphiques linéaires pour les tendances temporelles, des histogrammes pour les distributions et des nuages de points pour les relations."
      ]
    },
    {
      "cell_type": "markdown",
      "metadata": {
        "id": "09483ce9"
      },
      "source": [
        "**Raisonnement** :\n",
        "Créer un nuage de points pour visualiser la relation entre l'inflation du PIB et l'inflation de la consommation à l'aide du dataframe df_merged_inflation, ajouter des étiquettes et un titre, et afficher le tracé."
      ]
    },
    {
      "cell_type": "markdown",
      "metadata": {
        "id": "1818e161"
      },
      "source": [
        "**Raisonnement** :\n",
        "Créer un graphique linéaire montrant la tendance de l'inflation du PIB au fil du temps pour l'Inde à l'aide du dataframe df_gdp_country, ajouter des étiquettes et un titre, et afficher le tracé."
      ]
    },
    {
      "cell_type": "markdown",
      "metadata": {
        "id": "92151987"
      },
      "source": [
        "**Raisonnement** :\n",
        "Créer un graphique linéaire montrant la tendance de l'inflation de la consommation au fil du temps pour l'Inde à l'aide du dataframe df_consumer_country, ajouter des étiquettes et un titre, et afficher le tracé."
      ]
    },
    {
      "cell_type": "markdown",
      "metadata": {
        "id": "b8a893e4"
      },
      "source": [
        "## Analyse créative\n",
        "\n",
        "### Sous-tâche :\n",
        "Explorer les corrélations potentielles avec d'autres facteurs (bien que nous n'ayons que des données d'inflation, nous pouvons réfléchir de manière créative à ce qui pourrait influencer ces chiffres et discuter des limitations). Peut-être examiner les pays les plus volatils en termes d'inflation."
      ]
    },
    {
      "cell_type": "markdown",
      "metadata": {
        "id": "6e4d51d4"
      },
      "source": [
        "**Raisonnement** :\n",
        "Calculer l'écart-type pour l'inflation du PIB et de la consommation pour chaque pays dans le dataframe fusionné afin de mesurer la volatilité."
      ]
    },
    {
      "cell_type": "markdown",
      "metadata": {
        "id": "be7757c7"
      },
      "source": [
        "**Raisonnement** :\n",
        "Trier les pays par leur volatilité de l'inflation (écart-type) pour l'inflation du PIB et de la consommation et afficher les 10 premiers pour chaque afin d'identifier les pays les plus volatils."
      ]
    },
    {
      "cell_type": "markdown",
      "metadata": {
        "id": "1a3f16a6"
      },
      "source": [
        "**Raisonnement** :\n",
        "Discuter brièvement des facteurs externes potentiels et des limitations basées sur l'analyse de la volatilité de l'inflation."
      ]
    },
    {
      "cell_type": "markdown",
      "metadata": {
        "id": "f7432d8f"
      },
      "source": [
        "## Résumer les résultats\n",
        "\n",
        "### Sous-tâche :\n",
        "Présenter les principaux enseignements et observations de l'analyse."
      ]
    },
    {
      "cell_type": "markdown",
      "metadata": {
        "id": "8d1d97e5"
      },
      "source": [
        "**Raisonnement** :\n",
        "Résumer les principaux enseignements de l'analyse, couvrant le nettoyage des données, l'EDA, l'analyse comparative, la visualisation des données et l'analyse créative, puis terminer la tâche."
      ]
    },
    {
      "cell_type": "markdown",
      "metadata": {
        "id": "b155ebce"
      },
      "source": [
        "## Résumé :\n",
        "\n",
        "### Principaux résultats de l'analyse des données\n",
        "\n",
        "* Ni les jeux de données sur l'inflation du PIB ni ceux sur l'indice des prix à la consommation (IPC) ne contenaient de valeurs manquantes pour la période comprise entre 1973 et 2014.\n",
        "* La distribution des taux d'inflation du PIB et de l'indice de prix à la consommation (IPC) dans tous les pays et années était fortement asymétrique, avec une concentration proche de zéro ou à un chiffre bas, mais aussi une longue queue indiquant des périodes de très forte inflation.\n",
        "* Les économies développées comme les États-Unis, l'Allemagne et le Japon ont généralement connu une inflation plus faible et plus stable que les économies émergentes comme le Brésil et l'Inde. Le Brésil a montré une volatilité particulièrement élevée.\n",
        "* Il existe une corrélation positive entre l'inflation du PIB et l'inflation de l'indice de prix à la consommation (IPC), ce qui suggère qu'elles ont tendance à évoluer dans la même direction.\n",
        "* Les pays ayant l'inflation la plus volatile (mesurée par l'écart-type) comprenaient la République démocratique du Congo, la Bolivie, le Pérou et l'Angola.\n",
        "\n",
        "### Insights ou prochaines étapes\n",
        "\n",
        "* Pour comprendre les facteurs de volatilité de l'inflation, les analyses futures devraient intégrer des données sur les facteurs externes potentiels tels que la stabilité politique, les prix mondiaux des matières premières et les taux de change.\n",
        "* Il est nécessaire d'examiner de plus près les périodes de forte inflation dans les pays volatils afin de comprendre les événements économiques et politiques spécifiques qui ont contribué à ces pics."
      ]
    },
    {
      "cell_type": "markdown",
      "metadata": {
        "id": "48594a1e"
      },
      "source": [
        "# Tâche\n",
        "Analyser les données de l'IPC et du PIB de la Banque Mondiale de 1973 à 2014, en se concentrant sur l'identification des pays ayant les taux d'inflation les plus bas et les plus élevés au cours de périodes historiques distinctes. Expliquer la méthodologie de sélection des pays et de division des périodes, et fournir un contexte historique pour les extrêmes d'inflation observés dans les pays sélectionnés au cours de chaque période. La description des données est la suivante : `Données\n",
        "Les données proviennent de la Banque Mondiale (IPC), de la Banque Mondiale (PIB) et sont collectées de 1973 à 2014. Certaines valeurs manquent dans les données, de sorte que les utilisateurs des données devront deviner ce qui devrait se trouver dans les emplacements vides.\n",
        "\n",
        "Le téléchargement réel se fait via l'API de la Banque Mondiale (avec csv comme format demandé) (IPC), l'API de la Banque Mondiale (avec csv comme format demandé) (PIB).`"
      ]
    },
    {
      "cell_type": "markdown",
      "metadata": {
        "id": "d3836fb8"
      },
      "source": [
        "## Définir les périodes de temps\n",
        "\n",
        "### Sous-tâche :\n",
        "Diviser la période 1973-2014 en plusieurs périodes distinctes."
      ]
    },
    {
      "cell_type": "markdown",
      "metadata": {
        "id": "3980beb3"
      },
      "source": [
        "**Raisonnement** :\n",
        "Définir les périodes historiques en fonction des principaux événements économiques mondiaux survenus entre 1973 et 2014."
      ]
    },
    {
      "cell_type": "markdown",
      "metadata": {
        "id": "415a6dbb"
      },
      "source": [
        "## Analyser les extrêmes d'inflation par période\n",
        "\n",
        "### Sous-tâche :\n",
        "Pour chaque période, identifier les pays ayant les taux d'inflation moyens/médians les plus bas et les plus élevés (pour l'inflation du PIB et de la consommation)."
      ]
    },
    {
      "cell_type": "markdown",
      "metadata": {
        "id": "024fc1e3"
      },
      "source": [
        "**Raisonnement** :\n",
        "Itérer sur chaque période historique, filtrer les dataframes, calculer l'inflation moyenne par pays pour chaque période, et identifier les pays ayant l'inflation moyenne la plus basse et la plus élevée pour l'inflation du PIB et de la consommation."
      ]
    },
    {
      "cell_type": "markdown",
      "metadata": {
        "id": "875cd45d"
      },
      "source": [
        "## Contextualisation historique\n",
        "\n",
        "### Sous-tâche :\n",
        "Pour les pays identifiés avec des taux d'inflation extrêmes dans chaque période, discuter ou rechercher des événements historiques, économiques ou politiques potentiels qui pourraient expliquer ces niveaux d'inflation. Cette étape serait qualitative et nécessiterait des connaissances externes ou des recherches basées sur les pays et les périodes identifiés."
      ]
    },
    {
      "cell_type": "markdown",
      "metadata": {
        "id": "6b4e30d4"
      },
      "source": [
        "**Raisonnement** :\n",
        "Pour chaque période historique, identifier les pays ayant les taux d'inflation moyens du PIB et de la consommation les plus bas et les plus élevés, puis effectuer des recherches externes pour trouver des événements historiques, économiques ou politiques potentiels qui pourraient expliquer ces niveaux d'inflation extrêmes, et enfin imprimer les résultats pour chaque pays et période."
      ]
    },
    {
      "cell_type": "markdown",
      "metadata": {
        "id": "6f7bccf4"
      },
      "source": [
        "## Résumer les résultats\n",
        "\n",
        "### Sous-tâche :\n",
        "Présenter les principaux enseignements de l'analyse par période des extrêmes d'inflation et les explications historiques potentielles."
      ]
    },
    {
      "cell_type": "markdown",
      "metadata": {
        "id": "d6eb4914"
      },
      "source": [
        "**Raisonnement** :\n",
        "Résumer les principaux enseignements de l'analyse par période des extrêmes d'inflation et les explications historiques potentielles basées sur le dictionnaire `extreme_inflation_countries`."
      ]
    },
    {
      "cell_type": "markdown",
      "metadata": {
        "id": "7fa38e52"
      },
      "source": [
        "## Résumé :\n",
        "\n",
        "### Principaux résultats de l'analyse des données\n",
        "\n",
        "* L'analyse a identifié les pays ayant les taux d'inflation moyens du PIB et de l'indice de prix à la consommation (IPC) les plus bas et les plus élevés pour cinq périodes historiques : 1973-1980, 1981-1990, 1991-2000, 2001-2008 et 2009-2014.\n",
        "* Les pays ayant une inflation extrêmement élevée étaient fréquemment associés à une instabilité politique importante, des conflits civils, une mauvaise gestion économique et des crises de la dette (par exemple, le Chili dans les années 1970, la Bolivie et le Nicaragua dans les années 1980, et la République démocratique du Congo dans les années 1990 et au début des années 2000).\n",
        "* Les pays ayant maintenu une faible inflation de manière constante ont souvent fait preuve de cadres de politique monétaire solides et de stabilité politique (par exemple, la Suisse et le Liechtenstein au cours de plusieurs périodes).\n",
        "* Un résultat surprenant a été la présence du Zimbabwe avec l'inflation moyenne de l'indice de prix à la consommation (IPC) la plus basse au cours de la période 1991-2000, ce qui contraste avec son expérience d'hyperinflation ultérieure.\n",
        "\n",
        "### Insights ou prochaines étapes\n",
        "\n",
        "* Une enquête plus approfondie sur les conditions économiques spécifiques et les données pour les pays présentant des résultats surprenants, tels que le Zimbabwe en 1991-2000, est nécessaire pour comprendre les anomalies potentielles ou les facteurs à court terme.\n",
        "* Une analyse plus approfondie des réponses politiques des pays qui ont maintenu une faible inflation pendant les périodes de turbulence économique mondiale pourrait fournir des leçons précieuses pour la gestion de l'inflation."
      ]
    },
    {
      "cell_type": "markdown",
      "metadata": {
        "id": "986d6efe"
      },
      "source": [
        "Voici les traductions des sorties des cellules de code."
      ]
    },
    {
      "cell_type": "markdown",
      "metadata": {
        "id": "58b62b51"
      },
      "source": [
        "Sortie de la cellule Code r7yeOvEdAB9X:"
      ]
    },
    {
      "cell_type": "markdown",
      "metadata": {
        "id": "5f4f550e"
      },
      "source": [
        "Sortie de la cellule Code HTyXXhu9Ad9Z:"
      ]
    },
    {
      "cell_type": "markdown",
      "metadata": {
        "id": "ac6280a3"
      },
      "source": [
        "Sortie de la cellule Code v-xKfXjxA1pC:"
      ]
    },
    {
      "cell_type": "markdown",
      "metadata": {
        "id": "4fa8f27c"
      },
      "source": [
        "Sortie de la cellule Code lAiGQar4A2Vm:"
      ]
    },
    {
      "cell_type": "markdown",
      "metadata": {
        "id": "11910198"
      },
      "source": [
        "Sortie de la cellule Code eqRVNDPoA4W3:"
      ]
    },
    {
      "cell_type": "markdown",
      "metadata": {
        "id": "6b4b5c84"
      },
      "source": [
        "Sortie de la cellule Code 9704c1a4:"
      ]
    },
    {
      "cell_type": "markdown",
      "metadata": {
        "id": "e74e62ca"
      },
      "source": [
        "Sortie de la cellule Code ea53896a:"
      ]
    },
    {
      "cell_type": "markdown",
      "metadata": {
        "id": "637787c1"
      },
      "source": [
        "Sortie de la cellule Code 7d1787aa:"
      ]
    },
    {
      "cell_type": "markdown",
      "metadata": {
        "id": "b7b39cbc"
      },
      "source": [
        "Sortie de la cellule Code 507297a3:"
      ]
    },
    {
      "cell_type": "markdown",
      "metadata": {
        "id": "fcc4ce5f"
      },
      "source": [
        "Sortie de la cellule Code e088dacc:"
      ]
    },
    {
      "cell_type": "markdown",
      "metadata": {
        "id": "ac2ed39f"
      },
      "source": [
        "Sortie de la cellule Code 4007eb23:"
      ]
    },
    {
      "cell_type": "markdown",
      "metadata": {
        "id": "d25ecf5a"
      },
      "source": [
        "Sortie de la cellule Code 8491e617:"
      ]
    },
    {
      "cell_type": "markdown",
      "metadata": {
        "id": "1900df64"
      },
      "source": [
        "Sortie de la cellule Code 5257ccaa:"
      ]
    },
    {
      "cell_type": "markdown",
      "metadata": {
        "id": "96d9208a"
      },
      "source": [
        "Sortie de la cellule Code 8515b86f:"
      ]
    },
    {
      "cell_type": "markdown",
      "metadata": {
        "id": "c072130c"
      },
      "source": [
        "Sortie de la cellule Code 92b3f9c5:"
      ]
    },
    {
      "cell_type": "markdown",
      "metadata": {
        "id": "03bdd29f"
      },
      "source": [
        "Sortie de la cellule Code 55303292:"
      ]
    },
    {
      "cell_type": "markdown",
      "metadata": {
        "id": "91f2c22f"
      },
      "source": [
        "Sortie de la cellule Code 41d3138f:"
      ]
    },
    {
      "cell_type": "markdown",
      "metadata": {
        "id": "5c68a0b0"
      },
      "source": [
        "Sortie de la cellule Code f7409ace:"
      ]
    },
    {
      "cell_type": "markdown",
      "metadata": {
        "id": "97b1ff28"
      },
      "source": [
        "Sortie de la cellule Code d99be51b:"
      ]
    },
    {
      "cell_type": "markdown",
      "metadata": {
        "id": "97df891b"
      },
      "source": [
        "Sortie de la cellule Code cb05f6a8:"
      ]
    },
    {
      "cell_type": "markdown",
      "metadata": {
        "id": "185e17e5"
      },
      "source": [
        "Sortie de la cellule Code d03534b9:"
      ]
    },
    {
      "cell_type": "markdown",
      "metadata": {
        "id": "7ef56616"
      },
      "source": [
        "Sortie de la cellule Code c8ee47b3:"
      ]
    },
    {
      "cell_type": "markdown",
      "metadata": {
        "id": "388b9aca"
      },
      "source": [
        "Sortie de la cellule Code bd8db480:"
      ]
    },
    {
      "cell_type": "markdown",
      "metadata": {
        "id": "f2729a24"
      },
      "source": [
        "Sortie de la cellule Code 76069fd1:"
      ]
    },
    {
      "cell_type": "markdown",
      "metadata": {
        "id": "fa571a22"
      },
      "source": [
        "# Tâche\n",
        "Réaliser une analyse créative et approfondie des données d'inflation de l'IPC et du PIB de la Banque Mondiale fournies de 1973 à 2014, comprenant le nettoyage des données, l'analyse exploratoire des données, l'analyse comparative et la visualisation des données. Expliquer chaque étape avec des commentaires et des titres. Les données sont accessibles via l'API de la Banque Mondiale au format CSV pour l'IPC et le PIB."
      ]
    },
    {
      "cell_type": "markdown",
      "metadata": {
        "id": "af59ff79"
      },
      "source": [
        "## Nettoyage et prétraitement des données\n",
        "\n",
        "### Sous-tâche :\n",
        "Traiter les valeurs manquantes dans les deux dataframes (`df_gdp` et `df_consumer`). Cela peut impliquer une imputation ou une suppression de lignes/colonnes, en fonction de l'étendue des valeurs manquantes."
      ]
    },
    {
      "cell_type": "markdown",
      "metadata": {
        "id": "5ce3ecf3"
      },
      "source": [
        "**Raisonnement** :\n",
        "Vérifier les valeurs manquantes dans les deux dataframes et afficher la somme des valeurs manquantes par colonne."
      ]
    },
    {
      "cell_type": "markdown",
      "metadata": {
        "id": "a244da79"
      },
      "source": [
        "## Analyse exploratoire des données (eda)\n",
        "\n",
        "### Sous-tâche :\n",
        "Analyser la distribution des taux d'inflation dans les deux jeux de données."
      ]
    },
    {
      "cell_type": "markdown",
      "metadata": {
        "id": "333dd477"
      },
      "source": [
        "**Raisonnement** :\n",
        "Générer des histogrammes pour la colonne 'Inflation' dans les deux dataframes afin de visualiser leurs distributions."
      ]
    },
    {
      "cell_type": "markdown",
      "metadata": {
        "id": "91c2d335"
      },
      "source": [
        "## Analyse exploratoire des données (eda)\n",
        "\n",
        "### Sous-tâche :\n",
        "Explorer les tendances de l'inflation au fil du temps, en se concentrant peut-être sur des pays ou des régions spécifiques."
      ]
    },
    {
      "cell_type": "markdown",
      "metadata": {
        "id": "e90e2c98"
      },
      "source": [
        "**Raisonnement** :\n",
        "Filtrer les dataframes pour les pays sélectionnés, grouper par année et par pays, calculer l'inflation moyenne et préparer les données pour le traçage."
      ]
    },
    {
      "cell_type": "markdown",
      "metadata": {
        "id": "f13b3e73"
      },
      "source": [
        "**Raisonnement** :\n",
        "Tracer les données d'inflation agrégées pour les pays sélectionnés, en distinguant l'inflation du PIB et l'inflation de la consommation et en utilisant différentes couleurs pour les pays."
      ]
    },
    {
      "cell_type": "markdown",
      "metadata": {
        "id": "7df56629"
      },
      "source": [
        "## Analyse exploratoire des données (eda)\n",
        "\n",
        "### Sous-tâche :\n",
        "Étudier la relation entre l'inflation du PIB et l'inflation de la consommation."
      ]
    },
    {
      "cell_type": "markdown",
      "metadata": {
        "id": "d0bbc7ca"
      },
      "source": [
        "**Raisonnement** :\n",
        "Fusionner les deux dataframes et renommer les colonnes pour plus de clarté selon les instructions."
      ]
    },
    {
      "cell_type": "markdown",
      "metadata": {
        "id": "901f4b0b"
      },
      "source": [
        "**Raisonnement** :\n",
        "Créer un nuage de points pour visualiser la relation entre l'inflation du PIB et l'inflation de la consommation avec des étiquettes et un titre appropriés."
      ]
    },
    {
      "cell_type": "markdown",
      "metadata": {
        "id": "e86eda63"
      },
      "source": [
        "## Analyse comparative\n",
        "\n",
        "### Sous-tâche :\n",
        "Comparer les tendances de l'inflation entre différents pays ou groupes de pays."
      ]
    },
    {
      "cell_type": "markdown",
      "metadata": {
        "id": "b98547ea"
      },
      "source": [
        "**Raisonnement** :\n",
        "Filtrer les dataframes df_gdp et df_consumer pour n'inclure que les données des pays/groupes nouvellement sélectionnés et de la période spécifiée (1973-2014). Agréger les données filtrées pour l'inflation du PIB et de la consommation par pays/groupe et par année, en calculant le taux d'inflation moyen pour chacun."
      ]
    },
    {
      "cell_type": "markdown",
      "metadata": {
        "id": "2bc39eef"
      },
      "source": [
        "**Raisonnement** :\n",
        "Créer des graphiques linéaires visualisant les tendances de l'inflation du PIB et de la consommation au fil du temps pour les pays/groupes nouvellement sélectionnés. Assurer un étiquetage, des titres et des légendes clairs pour distinguer les pays/groupes et les types d'inflation. Analyser et comparer les tendances observées entre les différents pays/groupes, en notant les similitudes, les différences et les modèles intéressants."
      ]
    },
    {
      "cell_type": "markdown",
      "metadata": {
        "id": "7abb330d"
      },
      "source": [
        "## Visualisation des données\n",
        "\n",
        "### Sous-tâche :\n",
        "Créer divers tracés pour visualiser les résultats de l'EDA et de l'analyse comparative, tels que des graphiques linéaires pour les tendances temporelles, des histogrammes pour les distributions et des nuages de points pour les relations."
      ]
    },
    {
      "cell_type": "markdown",
      "metadata": {
        "id": "afac4fe5"
      },
      "source": [
        "**Raisonnement** :\n",
        "Créer un nuage de points pour visualiser la relation entre l'inflation du PIB et l'inflation de la consommation à l'aide du dataframe df_merged_inflation, ajouter des étiquettes et un titre, et afficher le tracé."
      ]
    },
    {
      "cell_type": "markdown",
      "metadata": {
        "id": "2ce3392f"
      },
      "source": [
        "**Raisonnement** :\n",
        "Créer un graphique linéaire montrant la tendance de l'inflation du PIB au fil du temps pour l'Inde à l'aide du dataframe df_gdp_country, ajouter des étiquettes et un titre, et afficher le tracé."
      ]
    },
    {
      "cell_type": "markdown",
      "metadata": {
        "id": "d3ec800b"
      },
      "source": [
        "**Raisonnement** :\n",
        "Créer un graphique linéaire montrant la tendance de l'inflation de la consommation au fil du temps pour l'Inde à l'aide du dataframe df_consumer_country, ajouter des étiquettes et un titre, et afficher le tracé."
      ]
    },
    {
      "cell_type": "markdown",
      "metadata": {
        "id": "8a564f0f"
      },
      "source": [
        "## Analyse créative\n",
        "\n",
        "### Sous-tâche :\n",
        "Explorer les corrélations potentielles avec d'autres facteurs (bien que nous n'ayons que des données d'inflation, nous pouvons réfléchir de manière créative à ce qui pourrait influencer ces chiffres et discuter des limitations). Peut-être examiner les pays les plus volatils en termes d'inflation."
      ]
    },
    {
      "cell_type": "markdown",
      "metadata": {
        "id": "6a88697c"
      },
      "source": [
        "**Raisonnement** :\n",
        "Calculer l'écart-type pour l'inflation du PIB et de la consommation pour chaque pays dans le dataframe fusionné afin de mesurer la volatilité."
      ]
    },
    {
      "cell_type": "markdown",
      "metadata": {
        "id": "a21373bc"
      },
      "source": [
        "**Raisonnement** :\n",
        "Trier les pays par leur volatilité de l'inflation (écart-type) pour l'inflation du PIB et de la consommation et afficher les 10 premiers pour chaque afin d'identifier les pays les plus volatils."
      ]
    },
    {
      "cell_type": "markdown",
      "metadata": {
        "id": "1210c23f"
      },
      "source": [
        "**Raisonnement** :\n",
        "Discuter brièvement des facteurs externes potentiels et des limitations basées sur l'analyse de la volatilité de l'inflation."
      ]
    },
    {
      "cell_type": "markdown",
      "metadata": {
        "id": "ab1a2131"
      },
      "source": [
        "## Résumer les résultats\n",
        "\n",
        "### Sous-tâche :\n",
        "Présenter les principaux enseignements et observations de l'analyse."
      ]
    },
    {
      "cell_type": "markdown",
      "metadata": {
        "id": "334c59b2"
      },
      "source": [
        "**Raisonnement** :\n",
        "Résumer les principaux enseignements de l'analyse, couvrant le nettoyage des données, l'EDA, l'analyse comparative, la visualisation des données et l'analyse créative, puis terminer la tâche."
      ]
    },
    {
      "cell_type": "markdown",
      "metadata": {
        "id": "9c64c239"
      },
      "source": [
        "## Résumé :\n",
        "\n",
        "### Principaux résultats de l'analyse des données\n",
        "\n",
        "* Ni les jeux de données sur l'inflation du PIB ni ceux sur l'indice des prix à la consommation (IPC) ne contenaient de valeurs manquantes pour la période comprise entre 1973 et 2014.\n",
        "* La distribution des taux d'inflation du PIB et de l'indice de prix à la consommation (IPC) dans tous les pays et années était fortement asymétrique, avec une concentration proche de zéro ou à un chiffre bas, mais aussi une longue queue indiquant des périodes de très forte inflation.\n",
        "* Les économies développées comme les États-Unis, l'Allemagne et le Japon ont généralement connu une inflation plus faible et plus stable que les économies émergentes comme le Brésil et l'Inde. Le Brésil a montré une volatilité particulièrement élevée.\n",
        "* Il existe une corrélation positive entre l'inflation du PIB et l'inflation de l'indice de prix à la consommation (IPC), ce qui suggère qu'elles ont tendance à évoluer dans la même direction.\n",
        "* Les pays ayant l'inflation la plus volatile (mesurée par l'écart-type) comprenaient la République démocratique du Congo, la Bolivie, le Pérou et l'Angola.\n",
        "\n",
        "### Insights ou prochaines étapes\n",
        "\n",
        "* Pour comprendre les facteurs de volatilité de l'inflation, les analyses futures devraient intégrer des données sur les facteurs externes potentiels tels que la stabilité politique, les prix mondiaux des matières premières et les taux de change.\n",
        "* Il est nécessaire d'examiner de plus près les périodes de forte inflation dans les pays volatils afin de comprendre les événements économiques et politiques spécifiques qui ont contribué à ces pics."
      ]
    },
    {
      "cell_type": "markdown",
      "metadata": {
        "id": "1acff321"
      },
      "source": [
        "# Tâche\n",
        "Analyser les données de l'IPC et du PIB de la Banque Mondiale de 1973 à 2014, en se concentrant sur l'identification des pays ayant les taux d'inflation les plus bas et les plus élevés au cours de périodes historiques distinctes. Expliquer la méthodologie de sélection des pays et de division des périodes, et fournir un contexte historique pour les extrêmes d'inflation observés dans les pays sélectionnés au cours de chaque période. La description des données est la suivante : `Données\n",
        "Les données proviennent de la Banque Mondiale (IPC), de la Banque Mondiale (PIB) et sont collectées de 1973 à 2014. Certaines valeurs manquent dans les données, de sorte que les utilisateurs des données devront deviner ce qui devrait se trouver dans les emplacements vides.\n",
        "\n",
        "Le téléchargement réel se fait via l'API de la Banque Mondiale (avec csv comme format demandé) (IPC), l'API de la Banque Mondiale (avec csv comme format demandé) (PIB).`"
      ]
    },
    {
      "cell_type": "markdown",
      "metadata": {
        "id": "3ecaeb3d"
      },
      "source": [
        "## Définir les périodes de temps\n",
        "\n",
        "### Sous-tâche :\n",
        "Diviser la période 1973-2014 en plusieurs périodes distinctes."
      ]
    },
    {
      "cell_type": "markdown",
      "metadata": {
        "id": "61855193"
      },
      "source": [
        "**Raisonnement** :\n",
        "Définir les périodes historiques en fonction des principaux événements économiques mondiaux survenus entre 1973 et 2014."
      ]
    },
    {
      "cell_type": "markdown",
      "metadata": {
        "id": "16228228"
      },
      "source": [
        "## Analyser les extrêmes d'inflation par période\n",
        "\n",
        "### Sous-tâche :\n",
        "Pour chaque période, identifier les pays ayant les taux d'inflation moyens/médians les plus bas et les plus élevés (pour l'inflation du PIB et de la consommation)."
      ]
    },
    {
      "cell_type": "markdown",
      "metadata": {
        "id": "abce7a30"
      },
      "source": [
        "**Raisonnement** :\n",
        "Itérer sur chaque période historique, filtrer les dataframes, calculer l'inflation moyenne par pays pour chaque période, et identifier les pays ayant l'inflation moyenne la plus basse et la plus élevée pour l'inflation du PIB et de la consommation."
      ]
    },
    {
      "cell_type": "markdown",
      "metadata": {
        "id": "f32116ba"
      },
      "source": [
        "## Contextualisation historique\n",
        "\n",
        "### Sous-tâche :\n",
        "Pour les pays identifiés avec des taux d'inflation extrêmes dans chaque période, discuter ou rechercher des événements historiques, économiques ou politiques potentiels qui pourraient expliquer ces niveaux d'inflation. Cette étape serait qualitative et nécessiterait des connaissances externes ou des recherches basées sur les pays et les périodes identifiés."
      ]
    },
    {
      "cell_type": "markdown",
      "metadata": {
        "id": "e8e040e2"
      },
      "source": [
        "**Raisonnement** :\n",
        "Pour chaque période historique, identifier les pays ayant les taux d'inflation moyens du PIB et de la consommation les plus bas et les plus élevés, puis effectuer des recherches externes pour trouver des événements historiques, économiques ou politiques potentiels qui pourraient expliquer ces niveaux d'inflation extrêmes, et enfin imprimer les résultats pour chaque pays et période."
      ]
    },
    {
      "cell_type": "markdown",
      "metadata": {
        "id": "a0589a8b"
      },
      "source": [
        "## Résumer les résultats\n",
        "\n",
        "### Sous-tâche :\n",
        "Présenter les principaux enseignements de l'analyse par période des extrêmes d'inflation et les explications historiques potentielles."
      ]
    },
    {
      "cell_type": "markdown",
      "metadata": {
        "id": "50d278b4"
      },
      "source": [
        "**Raisonnement** :\n",
        "Résumer les principaux enseignements de l'analyse par période des extrêmes d'inflation et les explications historiques potentielles basées sur le dictionnaire `extreme_inflation_countries`."
      ]
    },
    {
      "cell_type": "markdown",
      "metadata": {
        "id": "5c3b69d0"
      },
      "source": [
        "## Résumé :\n",
        "\n",
        "### Principaux résultats de l'analyse des données\n",
        "\n",
        "* L'analyse a identifié les pays ayant les taux d'inflation moyens du PIB et de l'indice de prix à la consommation (IPC) les plus bas et les plus élevés pour cinq périodes historiques : 1973-1980, 1981-1990, 1991-2000, 2001-2008 et 2009-2014.\n",
        "* Les pays ayant une inflation extrêmement élevée étaient fréquemment associés à une instabilité politique importante, des conflits civils, une mauvaise gestion économique et des crises de la dette (par exemple, le Chili dans les années 1970, la Bolivie et le Nicaragua dans les années 1980, et la République démocratique du Congo dans les années 1990 et au début des années 2000).\n",
        "* Les pays ayant maintenu une faible inflation de manière constante ont souvent fait preuve de cadres de politique monétaire solides et de stabilité politique (par exemple, la Suisse et le Liechtenstein au cours de plusieurs périodes).\n",
        "* Un résultat surprenant a été la présence du Zimbabwe avec l'inflation moyenne de l'indice de prix à la consommation (IPC) la plus basse au cours de la période 1991-2000, ce qui contraste avec son expérience d'hyperinflation ultérieure.\n",
        "\n",
        "### Insights ou prochaines étapes\n",
        "\n",
        "* Une enquête plus approfondie sur les conditions économiques spécifiques et les données pour les pays présentant des résultats surprenants, tels que le Zimbabwe en 1991-2000, est nécessaire pour comprendre les anomalies potentielles ou les facteurs à court terme.\n",
        "* Une analyse plus approfondie des réponses politiques des pays qui ont maintenu une faible inflation pendant les périodes de turbulence économique mondiale pourrait fournir des leçons précieuses pour la gestion de l'inflation."
      ]
    },
    {
      "cell_type": "markdown",
      "metadata": {
        "id": "b591b8cb"
      },
      "source": [
        "Voici les traductions des sorties des cellules de code."
      ]
    },
    {
      "cell_type": "markdown",
      "metadata": {
        "id": "e025977a"
      },
      "source": [
        "Sortie de la cellule Code r7yeOvEdAB9X:"
      ]
    },
    {
      "cell_type": "markdown",
      "metadata": {
        "id": "d4afd5f0"
      },
      "source": [
        "Sortie de la cellule Code HTyXXhu9Ad9Z:"
      ]
    },
    {
      "cell_type": "markdown",
      "metadata": {
        "id": "de380044"
      },
      "source": [
        "Sortie de la cellule Code v-xKfXjxA1pC:"
      ]
    },
    {
      "cell_type": "markdown",
      "metadata": {
        "id": "3c7553eb"
      },
      "source": [
        "Sortie de la cellule Code lAiGQar4A2Vm:"
      ]
    },
    {
      "cell_type": "markdown",
      "metadata": {
        "id": "a8e627c4"
      },
      "source": [
        "Sortie de la cellule Code eqRVNDPoA4W3:"
      ]
    },
    {
      "cell_type": "markdown",
      "metadata": {
        "id": "b6628c6e"
      },
      "source": [
        "Sortie de la cellule Code 9704c1a4:"
      ]
    },
    {
      "cell_type": "markdown",
      "metadata": {
        "id": "361418e3"
      },
      "source": [
        "Sortie de la cellule Code ea53896a:"
      ]
    },
    {
      "cell_type": "markdown",
      "metadata": {
        "id": "952f2961"
      },
      "source": [
        "Sortie de la cellule Code 637787c1:"
      ]
    },
    {
      "cell_type": "markdown",
      "metadata": {
        "id": "d67cc392"
      },
      "source": [
        "Sortie de la cellule Code b7b39cbc:"
      ]
    },
    {
      "cell_type": "markdown",
      "metadata": {
        "id": "c8821897"
      },
      "source": [
        "Sortie de la cellule Code fcc4ce5f:"
      ]
    },
    {
      "cell_type": "markdown",
      "metadata": {
        "id": "572ffa3b"
      },
      "source": [
        "Sortie de la cellule Code ac2ed39f:"
      ]
    },
    {
      "cell_type": "markdown",
      "metadata": {
        "id": "5347d5a2"
      },
      "source": [
        "Sortie de la cellule Code d25ecf5a:"
      ]
    },
    {
      "cell_type": "markdown",
      "metadata": {
        "id": "dd8017f1"
      },
      "source": [
        "Sortie de la cellule Code 1900df64:"
      ]
    },
    {
      "cell_type": "markdown",
      "metadata": {
        "id": "666d8465"
      },
      "source": [
        "Sortie de la cellule Code 96d9208a:"
      ]
    },
    {
      "cell_type": "markdown",
      "metadata": {
        "id": "eda9769f"
      },
      "source": [
        "Sortie de la cellule Code c072130c:"
      ]
    },
    {
      "cell_type": "markdown",
      "metadata": {
        "id": "aeeb4cb9"
      },
      "source": [
        "Sortie de la cellule Code 03bdd29f:"
      ]
    },
    {
      "cell_type": "markdown",
      "metadata": {
        "id": "19ac9638"
      },
      "source": [
        "Sortie de la cellule Code 91f2c22f:"
      ]
    },
    {
      "cell_type": "markdown",
      "metadata": {
        "id": "91041514"
      },
      "source": [
        "Sortie de la cellule Code 5c68a0b0:"
      ]
    },
    {
      "cell_type": "markdown",
      "metadata": {
        "id": "34b35ff0"
      },
      "source": [
        "Sortie de la cellule Code 97b1ff28:"
      ]
    },
    {
      "cell_type": "markdown",
      "metadata": {
        "id": "7790fdd0"
      },
      "source": [
        "Sortie de la cellule Code 97df891b:"
      ]
    },
    {
      "cell_type": "markdown",
      "metadata": {
        "id": "0275b12a"
      },
      "source": [
        "Sortie de la cellule Code 185e17e5:"
      ]
    },
    {
      "cell_type": "markdown",
      "metadata": {
        "id": "3acaa6ae"
      },
      "source": [
        "Sortie de la cellule Code 7ef56616:"
      ]
    },
    {
      "cell_type": "markdown",
      "metadata": {
        "id": "a3f546c0"
      },
      "source": [
        "Sortie de la cellule Code 388b9aca:"
      ]
    },
    {
      "cell_type": "markdown",
      "metadata": {
        "id": "52a20576"
      },
      "source": [
        "Sortie de la cellule Code f2729a24:"
      ]
    }
  ],
  "metadata": {
    "colab": {
      "provenance": []
    },
    "kernelspec": {
      "display_name": "Python 3",
      "name": "python3"
    },
    "language_info": {
      "name": "python"
    }
  },
  "nbformat": 4,
  "nbformat_minor": 0
}